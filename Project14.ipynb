{
  "nbformat": 4,
  "nbformat_minor": 0,
  "metadata": {
    "colab": {
      "provenance": [],
      "include_colab_link": true
    },
    "kernelspec": {
      "name": "python3",
      "display_name": "Python 3"
    }
  },
  "cells": [
    {
      "cell_type": "markdown",
      "metadata": {
        "id": "view-in-github",
        "colab_type": "text"
      },
      "source": [
        "<a href=\"https://colab.research.google.com/github/VatsalyaBetala/LifeExpectancy-Analysis/blob/main/Project14.ipynb\" target=\"_parent\"><img src=\"https://colab.research.google.com/assets/colab-badge.svg\" alt=\"Open In Colab\"/></a>"
      ]
    },
    {
      "cell_type": "markdown",
      "metadata": {
        "id": "OocTROo-irrt"
      },
      "source": [
        "# Capstone Project 14: Life Expectancy Analysis\n"
      ]
    },
    {
      "cell_type": "markdown",
      "metadata": {
        "id": "wOmN35jdQO68"
      },
      "source": [
        "### Context\n",
        "\n",
        "The term **Life Expectancy** refers to the number of years a person can expect to live. It is based on an estimate of the average age of a population when they die. Life expectancy is one of the key metrics used for assessing the overall health of a population.\n",
        "\n",
        " The Global Health Observatory (GHO) data repository under the World Health Organization (WHO) keeps track of the health status as well as many other related factors for all countries. The data-sets are made available to the public to perform health data analysis. It has been observed that in the past 15 years, there is a huge development in the health sector resulting in the improvement of human mortality rates. The increases are nearly universal, from the richest to the poorest countries. Let's dive deeper into the life expectancy dataset and find out how different factors influence your life expectancy.\n",
        "\n",
        "\n"
      ]
    },
    {
      "cell_type": "markdown",
      "metadata": {
        "id": "DiBKzIYpWCzp"
      },
      "source": [
        "---"
      ]
    },
    {
      "cell_type": "markdown",
      "metadata": {
        "id": "zTSyVg4PqLI3"
      },
      "source": [
        "### Problem Statement\n",
        "\n",
        "As the head of a leading life insurance company, your job is to formulate  global health insurance coverage plans and devise different life insurance solutions for different countries. For this, you need to obtain insightful trends and patterns in people's dying age across different countries. Also, you need to determine the factors that affect the average life expectancy of the people around the world to determine the premium rates for insurance policies."
      ]
    },
    {
      "cell_type": "markdown",
      "metadata": {
        "id": "5AyRRYmTR3N7"
      },
      "source": [
        "---"
      ]
    },
    {
      "cell_type": "markdown",
      "metadata": {
        "id": "RBS03O7jla9Q"
      },
      "source": [
        "---"
      ]
    },
    {
      "cell_type": "markdown",
      "metadata": {
        "id": "OvuklseNQkid"
      },
      "source": [
        "### Data Description\n",
        "\n",
        "This dataset contains life expectancy data and health factors for 193 countries from the year 2000-2015 which was collected from the WHO data repository website and its corresponding economic data was collected from the United Nation website. It consists of 22 columns and 2938 rows.\n",
        "\n",
        "|Field|Description|\n",
        "|---:|:---|\n",
        "|Country|Country|\n",
        "|Year|Year|\n",
        "|Status|Developed or Developing|\n",
        "|Life expectancy|Life Expectancy in years|\n",
        "|Adult Mortality|Adult Mortality Rates of both sexes (probability of dying between 15 and 60 years per 1000 population)|\n",
        "|infant deaths|Number of Infant Deaths per 1000 population|\n",
        "|Alcohol|Alcohol, recorded per capita (15+) consumption|\n",
        "|percentage expenditure|Expenditure on health as a percent of GDP per capita (%)|\n",
        "|Hepatitis B|Hepatitis B (HepB) immunization coverage among 1-year-olds (%)|\n",
        "|Measles|Measles - number of reported cases per 1000 population|\n",
        "|BMI|Average Body Mass Index of the entire population|\n",
        "|under-five deaths|Number of under-five deaths per 1000 population|\n",
        "|Polio|Polio (Pol3) immunization coverage among 1-year-olds (%)|\n",
        "|Total expenditure|General government expenditure on health (%)|\n",
        "|Diphtheria|Diphtheria tetanus toxoid and pertussis (DTP3) immunization coverage among 1-year-olds (%)|\n",
        "|HIV/AIDS|Deaths per 1000 live births HIV/AIDS (0-4 years)|\n",
        "|GDP|Gross Domestic Product per capita (in USD)|\n",
        "|Population|Population of the country|\n",
        "|thinness 1-19 years|Prevalence of thinness among children and adolescents for Age 10 to 19 (%)|\n",
        "|thinness 5-9 years|Prevalence of thinness among children for Age 5 to 9 (%)|\n",
        "|Income composition of resources|Productive use of resources|\n",
        "|Schooling|Number of years of Schooling(years)|\n",
        "\n",
        "Here's the dataset link:\n",
        "\n",
        "https://student-datasets-bucket.s3.ap-south-1.amazonaws.com/whitehat-ds-datasets/life-expectancy/life-expectancy.csv"
      ]
    },
    {
      "cell_type": "markdown",
      "metadata": {
        "id": "wmta0mCwWB0e"
      },
      "source": [
        "---"
      ]
    },
    {
      "cell_type": "markdown",
      "metadata": {
        "id": "MD9GPoDvD9Sh"
      },
      "source": [
        "### Things To Do\n",
        "\n",
        "- Rename the columns since most of them contain leading and trailing spaces. Some columns contain a few missing values. Treat them accordingly.\n",
        "\n",
        "- Find the answer to the following questions:\n",
        "\n",
        "  1. Is there a rise in the average life expectancy around the world in a period of 15 years, i.e., from 2000 - 2015?\n",
        "\n",
        "  2. Do developing countries have a lower life expectancy as compared to the developed countries?\n",
        "  \n",
        "  3. Calculate how many countries had extremely low life expectancy, i.e., less than 60 years. List those countries.\n",
        "\n",
        "  4. What are the most critical factors affecting life expectancy?\n"
      ]
    },
    {
      "cell_type": "markdown",
      "metadata": {
        "id": "1_0f8iFLVzir"
      },
      "source": [
        "---"
      ]
    },
    {
      "cell_type": "markdown",
      "metadata": {
        "id": "bQT8lQviaQwX"
      },
      "source": [
        "#### 1. Import Modules & Load Dataset"
      ]
    },
    {
      "cell_type": "code",
      "metadata": {
        "id": "Y62VnVV3SjwN",
        "colab": {
          "base_uri": "https://localhost:8080/",
          "height": 490
        },
        "outputId": "ae70588d-1cf8-4ce5-f1ec-a71fa4fa2b48"
      },
      "source": [
        "# Import the required modules and load the dataset.\n",
        "import pandas as pd\n",
        "import numpy as np\n",
        "import matplotlib.pyplot as plt\n",
        "import seaborn as sns\n",
        "life_expect_df = pd.read_csv(\"https://student-datasets-bucket.s3.ap-south-1.amazonaws.com/whitehat-ds-datasets/life-expectancy/life-expectancy.csv\")\n",
        "life_expect_df"
      ],
      "execution_count": null,
      "outputs": [
        {
          "output_type": "execute_result",
          "data": {
            "text/html": [
              "<div>\n",
              "<style scoped>\n",
              "    .dataframe tbody tr th:only-of-type {\n",
              "        vertical-align: middle;\n",
              "    }\n",
              "\n",
              "    .dataframe tbody tr th {\n",
              "        vertical-align: top;\n",
              "    }\n",
              "\n",
              "    .dataframe thead th {\n",
              "        text-align: right;\n",
              "    }\n",
              "</style>\n",
              "<table border=\"1\" class=\"dataframe\">\n",
              "  <thead>\n",
              "    <tr style=\"text-align: right;\">\n",
              "      <th></th>\n",
              "      <th>Country</th>\n",
              "      <th>Year</th>\n",
              "      <th>Status</th>\n",
              "      <th>Life expectancy</th>\n",
              "      <th>Adult Mortality</th>\n",
              "      <th>infant deaths</th>\n",
              "      <th>Alcohol</th>\n",
              "      <th>percentage expenditure</th>\n",
              "      <th>Hepatitis B</th>\n",
              "      <th>Measles</th>\n",
              "      <th>BMI</th>\n",
              "      <th>under-five deaths</th>\n",
              "      <th>Polio</th>\n",
              "      <th>Total expenditure</th>\n",
              "      <th>Diphtheria</th>\n",
              "      <th>HIV/AIDS</th>\n",
              "      <th>GDP</th>\n",
              "      <th>Population</th>\n",
              "      <th>thinness  1-19 years</th>\n",
              "      <th>thinness 5-9 years</th>\n",
              "      <th>Income composition of resources</th>\n",
              "      <th>Schooling</th>\n",
              "    </tr>\n",
              "  </thead>\n",
              "  <tbody>\n",
              "    <tr>\n",
              "      <th>0</th>\n",
              "      <td>Afghanistan</td>\n",
              "      <td>2015</td>\n",
              "      <td>Developing</td>\n",
              "      <td>65.0</td>\n",
              "      <td>263.0</td>\n",
              "      <td>62</td>\n",
              "      <td>0.01</td>\n",
              "      <td>71.279624</td>\n",
              "      <td>65.0</td>\n",
              "      <td>1154</td>\n",
              "      <td>19.1</td>\n",
              "      <td>83</td>\n",
              "      <td>6.0</td>\n",
              "      <td>8.16</td>\n",
              "      <td>65.0</td>\n",
              "      <td>0.1</td>\n",
              "      <td>584.259210</td>\n",
              "      <td>33736494.0</td>\n",
              "      <td>17.2</td>\n",
              "      <td>17.3</td>\n",
              "      <td>0.479</td>\n",
              "      <td>10.1</td>\n",
              "    </tr>\n",
              "    <tr>\n",
              "      <th>1</th>\n",
              "      <td>Afghanistan</td>\n",
              "      <td>2014</td>\n",
              "      <td>Developing</td>\n",
              "      <td>59.9</td>\n",
              "      <td>271.0</td>\n",
              "      <td>64</td>\n",
              "      <td>0.01</td>\n",
              "      <td>73.523582</td>\n",
              "      <td>62.0</td>\n",
              "      <td>492</td>\n",
              "      <td>18.6</td>\n",
              "      <td>86</td>\n",
              "      <td>58.0</td>\n",
              "      <td>8.18</td>\n",
              "      <td>62.0</td>\n",
              "      <td>0.1</td>\n",
              "      <td>612.696514</td>\n",
              "      <td>327582.0</td>\n",
              "      <td>17.5</td>\n",
              "      <td>17.5</td>\n",
              "      <td>0.476</td>\n",
              "      <td>10.0</td>\n",
              "    </tr>\n",
              "    <tr>\n",
              "      <th>2</th>\n",
              "      <td>Afghanistan</td>\n",
              "      <td>2013</td>\n",
              "      <td>Developing</td>\n",
              "      <td>59.9</td>\n",
              "      <td>268.0</td>\n",
              "      <td>66</td>\n",
              "      <td>0.01</td>\n",
              "      <td>73.219243</td>\n",
              "      <td>64.0</td>\n",
              "      <td>430</td>\n",
              "      <td>18.1</td>\n",
              "      <td>89</td>\n",
              "      <td>62.0</td>\n",
              "      <td>8.13</td>\n",
              "      <td>64.0</td>\n",
              "      <td>0.1</td>\n",
              "      <td>631.744976</td>\n",
              "      <td>31731688.0</td>\n",
              "      <td>17.7</td>\n",
              "      <td>17.7</td>\n",
              "      <td>0.470</td>\n",
              "      <td>9.9</td>\n",
              "    </tr>\n",
              "    <tr>\n",
              "      <th>3</th>\n",
              "      <td>Afghanistan</td>\n",
              "      <td>2012</td>\n",
              "      <td>Developing</td>\n",
              "      <td>59.5</td>\n",
              "      <td>272.0</td>\n",
              "      <td>69</td>\n",
              "      <td>0.01</td>\n",
              "      <td>78.184215</td>\n",
              "      <td>67.0</td>\n",
              "      <td>2787</td>\n",
              "      <td>17.6</td>\n",
              "      <td>93</td>\n",
              "      <td>67.0</td>\n",
              "      <td>8.52</td>\n",
              "      <td>67.0</td>\n",
              "      <td>0.1</td>\n",
              "      <td>669.959000</td>\n",
              "      <td>3696958.0</td>\n",
              "      <td>17.9</td>\n",
              "      <td>18.0</td>\n",
              "      <td>0.463</td>\n",
              "      <td>9.8</td>\n",
              "    </tr>\n",
              "    <tr>\n",
              "      <th>4</th>\n",
              "      <td>Afghanistan</td>\n",
              "      <td>2011</td>\n",
              "      <td>Developing</td>\n",
              "      <td>59.2</td>\n",
              "      <td>275.0</td>\n",
              "      <td>71</td>\n",
              "      <td>0.01</td>\n",
              "      <td>7.097109</td>\n",
              "      <td>68.0</td>\n",
              "      <td>3013</td>\n",
              "      <td>17.2</td>\n",
              "      <td>97</td>\n",
              "      <td>68.0</td>\n",
              "      <td>7.87</td>\n",
              "      <td>68.0</td>\n",
              "      <td>0.1</td>\n",
              "      <td>63.537231</td>\n",
              "      <td>2978599.0</td>\n",
              "      <td>18.2</td>\n",
              "      <td>18.2</td>\n",
              "      <td>0.454</td>\n",
              "      <td>9.5</td>\n",
              "    </tr>\n",
              "    <tr>\n",
              "      <th>...</th>\n",
              "      <td>...</td>\n",
              "      <td>...</td>\n",
              "      <td>...</td>\n",
              "      <td>...</td>\n",
              "      <td>...</td>\n",
              "      <td>...</td>\n",
              "      <td>...</td>\n",
              "      <td>...</td>\n",
              "      <td>...</td>\n",
              "      <td>...</td>\n",
              "      <td>...</td>\n",
              "      <td>...</td>\n",
              "      <td>...</td>\n",
              "      <td>...</td>\n",
              "      <td>...</td>\n",
              "      <td>...</td>\n",
              "      <td>...</td>\n",
              "      <td>...</td>\n",
              "      <td>...</td>\n",
              "      <td>...</td>\n",
              "      <td>...</td>\n",
              "      <td>...</td>\n",
              "    </tr>\n",
              "    <tr>\n",
              "      <th>2933</th>\n",
              "      <td>Zimbabwe</td>\n",
              "      <td>2004</td>\n",
              "      <td>Developing</td>\n",
              "      <td>44.3</td>\n",
              "      <td>723.0</td>\n",
              "      <td>27</td>\n",
              "      <td>4.36</td>\n",
              "      <td>0.000000</td>\n",
              "      <td>68.0</td>\n",
              "      <td>31</td>\n",
              "      <td>27.1</td>\n",
              "      <td>42</td>\n",
              "      <td>67.0</td>\n",
              "      <td>7.13</td>\n",
              "      <td>65.0</td>\n",
              "      <td>33.6</td>\n",
              "      <td>454.366654</td>\n",
              "      <td>12777511.0</td>\n",
              "      <td>9.4</td>\n",
              "      <td>9.4</td>\n",
              "      <td>0.407</td>\n",
              "      <td>9.2</td>\n",
              "    </tr>\n",
              "    <tr>\n",
              "      <th>2934</th>\n",
              "      <td>Zimbabwe</td>\n",
              "      <td>2003</td>\n",
              "      <td>Developing</td>\n",
              "      <td>44.5</td>\n",
              "      <td>715.0</td>\n",
              "      <td>26</td>\n",
              "      <td>4.06</td>\n",
              "      <td>0.000000</td>\n",
              "      <td>7.0</td>\n",
              "      <td>998</td>\n",
              "      <td>26.7</td>\n",
              "      <td>41</td>\n",
              "      <td>7.0</td>\n",
              "      <td>6.52</td>\n",
              "      <td>68.0</td>\n",
              "      <td>36.7</td>\n",
              "      <td>453.351155</td>\n",
              "      <td>12633897.0</td>\n",
              "      <td>9.8</td>\n",
              "      <td>9.9</td>\n",
              "      <td>0.418</td>\n",
              "      <td>9.5</td>\n",
              "    </tr>\n",
              "    <tr>\n",
              "      <th>2935</th>\n",
              "      <td>Zimbabwe</td>\n",
              "      <td>2002</td>\n",
              "      <td>Developing</td>\n",
              "      <td>44.8</td>\n",
              "      <td>73.0</td>\n",
              "      <td>25</td>\n",
              "      <td>4.43</td>\n",
              "      <td>0.000000</td>\n",
              "      <td>73.0</td>\n",
              "      <td>304</td>\n",
              "      <td>26.3</td>\n",
              "      <td>40</td>\n",
              "      <td>73.0</td>\n",
              "      <td>6.53</td>\n",
              "      <td>71.0</td>\n",
              "      <td>39.8</td>\n",
              "      <td>57.348340</td>\n",
              "      <td>125525.0</td>\n",
              "      <td>1.2</td>\n",
              "      <td>1.3</td>\n",
              "      <td>0.427</td>\n",
              "      <td>10.0</td>\n",
              "    </tr>\n",
              "    <tr>\n",
              "      <th>2936</th>\n",
              "      <td>Zimbabwe</td>\n",
              "      <td>2001</td>\n",
              "      <td>Developing</td>\n",
              "      <td>45.3</td>\n",
              "      <td>686.0</td>\n",
              "      <td>25</td>\n",
              "      <td>1.72</td>\n",
              "      <td>0.000000</td>\n",
              "      <td>76.0</td>\n",
              "      <td>529</td>\n",
              "      <td>25.9</td>\n",
              "      <td>39</td>\n",
              "      <td>76.0</td>\n",
              "      <td>6.16</td>\n",
              "      <td>75.0</td>\n",
              "      <td>42.1</td>\n",
              "      <td>548.587312</td>\n",
              "      <td>12366165.0</td>\n",
              "      <td>1.6</td>\n",
              "      <td>1.7</td>\n",
              "      <td>0.427</td>\n",
              "      <td>9.8</td>\n",
              "    </tr>\n",
              "    <tr>\n",
              "      <th>2937</th>\n",
              "      <td>Zimbabwe</td>\n",
              "      <td>2000</td>\n",
              "      <td>Developing</td>\n",
              "      <td>46.0</td>\n",
              "      <td>665.0</td>\n",
              "      <td>24</td>\n",
              "      <td>1.68</td>\n",
              "      <td>0.000000</td>\n",
              "      <td>79.0</td>\n",
              "      <td>1483</td>\n",
              "      <td>25.5</td>\n",
              "      <td>39</td>\n",
              "      <td>78.0</td>\n",
              "      <td>7.10</td>\n",
              "      <td>78.0</td>\n",
              "      <td>43.5</td>\n",
              "      <td>547.358879</td>\n",
              "      <td>12222251.0</td>\n",
              "      <td>11.0</td>\n",
              "      <td>11.2</td>\n",
              "      <td>0.434</td>\n",
              "      <td>9.8</td>\n",
              "    </tr>\n",
              "  </tbody>\n",
              "</table>\n",
              "<p>2938 rows × 22 columns</p>\n",
              "</div>"
            ],
            "text/plain": [
              "          Country  Year  ... Income composition of resources  Schooling\n",
              "0     Afghanistan  2015  ...                           0.479       10.1\n",
              "1     Afghanistan  2014  ...                           0.476       10.0\n",
              "2     Afghanistan  2013  ...                           0.470        9.9\n",
              "3     Afghanistan  2012  ...                           0.463        9.8\n",
              "4     Afghanistan  2011  ...                           0.454        9.5\n",
              "...           ...   ...  ...                             ...        ...\n",
              "2933     Zimbabwe  2004  ...                           0.407        9.2\n",
              "2934     Zimbabwe  2003  ...                           0.418        9.5\n",
              "2935     Zimbabwe  2002  ...                           0.427       10.0\n",
              "2936     Zimbabwe  2001  ...                           0.427        9.8\n",
              "2937     Zimbabwe  2000  ...                           0.434        9.8\n",
              "\n",
              "[2938 rows x 22 columns]"
            ]
          },
          "metadata": {
            "tags": []
          },
          "execution_count": 417
        }
      ]
    },
    {
      "cell_type": "code",
      "metadata": {
        "id": "2eDUrqpvTIZv",
        "colab": {
          "base_uri": "https://localhost:8080/"
        },
        "outputId": "6792cc68-44a6-4367-dd16-6e41db1cf084"
      },
      "source": [
        "# Get the information on DataFrame.\n",
        "life_expect_df.info()"
      ],
      "execution_count": null,
      "outputs": [
        {
          "output_type": "stream",
          "text": [
            "<class 'pandas.core.frame.DataFrame'>\n",
            "RangeIndex: 2938 entries, 0 to 2937\n",
            "Data columns (total 22 columns):\n",
            " #   Column                           Non-Null Count  Dtype  \n",
            "---  ------                           --------------  -----  \n",
            " 0   Country                          2938 non-null   object \n",
            " 1   Year                             2938 non-null   int64  \n",
            " 2   Status                           2938 non-null   object \n",
            " 3   Life expectancy                  2928 non-null   float64\n",
            " 4   Adult Mortality                  2928 non-null   float64\n",
            " 5   infant deaths                    2938 non-null   int64  \n",
            " 6   Alcohol                          2744 non-null   float64\n",
            " 7   percentage expenditure           2938 non-null   float64\n",
            " 8   Hepatitis B                      2385 non-null   float64\n",
            " 9   Measles                          2938 non-null   int64  \n",
            " 10   BMI                             2904 non-null   float64\n",
            " 11  under-five deaths                2938 non-null   int64  \n",
            " 12  Polio                            2919 non-null   float64\n",
            " 13  Total expenditure                2712 non-null   float64\n",
            " 14  Diphtheria                       2919 non-null   float64\n",
            " 15   HIV/AIDS                        2938 non-null   float64\n",
            " 16  GDP                              2490 non-null   float64\n",
            " 17  Population                       2286 non-null   float64\n",
            " 18   thinness  1-19 years            2904 non-null   float64\n",
            " 19   thinness 5-9 years              2904 non-null   float64\n",
            " 20  Income composition of resources  2771 non-null   float64\n",
            " 21  Schooling                        2775 non-null   float64\n",
            "dtypes: float64(16), int64(4), object(2)\n",
            "memory usage: 505.1+ KB\n"
          ],
          "name": "stdout"
        }
      ]
    },
    {
      "cell_type": "markdown",
      "metadata": {
        "id": "mOIRuleeHzY0"
      },
      "source": [
        "**Q:** Which column(s) has/have non-numeric values?\n",
        "\n",
        "**A:** `Country` and `Status` are the columns that have non-numeric values."
      ]
    },
    {
      "cell_type": "markdown",
      "metadata": {
        "id": "EWiqsKkOnT7J"
      },
      "source": [
        "---"
      ]
    },
    {
      "cell_type": "markdown",
      "metadata": {
        "id": "4CrPEfhPDD7g"
      },
      "source": [
        "#### 2. Renaming Columns\n",
        "\n",
        "Rename some columns if they contain leading and trailing spaces."
      ]
    },
    {
      "cell_type": "code",
      "metadata": {
        "id": "xNrm1FKyEcwM",
        "colab": {
          "base_uri": "https://localhost:8080/"
        },
        "outputId": "83bf0338-7858-478c-e96f-de0ff337432d"
      },
      "source": [
        "# Get a list of all the columns before renaming.\n",
        "life_expect_df.columns"
      ],
      "execution_count": null,
      "outputs": [
        {
          "output_type": "execute_result",
          "data": {
            "text/plain": [
              "Index(['Country', 'Year', 'Status', 'Life expectancy ', 'Adult Mortality',\n",
              "       'infant deaths', 'Alcohol', 'percentage expenditure', 'Hepatitis B',\n",
              "       'Measles ', ' BMI ', 'under-five deaths ', 'Polio', 'Total expenditure',\n",
              "       'Diphtheria ', ' HIV/AIDS', 'GDP', 'Population',\n",
              "       ' thinness  1-19 years', ' thinness 5-9 years',\n",
              "       'Income composition of resources', 'Schooling'],\n",
              "      dtype='object')"
            ]
          },
          "metadata": {
            "tags": []
          },
          "execution_count": 419
        }
      ]
    },
    {
      "cell_type": "markdown",
      "metadata": {
        "id": "-2aBkbVWEhOe"
      },
      "source": [
        "**Q:** Which columns contain trailing whitespaces (spaces before and after) in their names?\n",
        "\n",
        "**A:** `'Measles '`, `' BMI '`, `'under-five deaths '`, `'Diphtheria '`, `' HIV/AIDS'`, `' thinness  1-19 years'` and `' thinness 5-9 years'` are the columns contain trailing whitespaces (spaces before and after) in their names."
      ]
    },
    {
      "cell_type": "code",
      "metadata": {
        "id": "_OC_6w7EDHAA"
      },
      "source": [
        "# Remove whitespaces from both ends in the column name\n",
        "columns_rename = ['Life expectancy ', 'Measles ', ' BMI ', 'under-five deaths ', 'Diphtheria ', ' HIV/AIDS', ' thinness  1-19 years', ' thinness 5-9 years']\n",
        "for i in columns_rename:\n",
        "  life_expect_df.rename(columns = {i : i.strip(' ')}, inplace = True)"
      ],
      "execution_count": null,
      "outputs": []
    },
    {
      "cell_type": "code",
      "metadata": {
        "id": "AvadRkvzFM8m",
        "colab": {
          "base_uri": "https://localhost:8080/"
        },
        "outputId": "3712012e-d5db-4128-8c17-d7e55539e997"
      },
      "source": [
        "# Get list of all the columns after renaming.\n",
        "life_expect_df.columns"
      ],
      "execution_count": null,
      "outputs": [
        {
          "output_type": "execute_result",
          "data": {
            "text/plain": [
              "Index(['Country', 'Year', 'Status', 'Life expectancy', 'Adult Mortality',\n",
              "       'infant deaths', 'Alcohol', 'percentage expenditure', 'Hepatitis B',\n",
              "       'Measles', 'BMI', 'under-five deaths', 'Polio', 'Total expenditure',\n",
              "       'Diphtheria', 'HIV/AIDS', 'GDP', 'Population', 'thinness  1-19 years',\n",
              "       'thinness 5-9 years', 'Income composition of resources', 'Schooling'],\n",
              "      dtype='object')"
            ]
          },
          "metadata": {
            "tags": []
          },
          "execution_count": 421
        }
      ]
    },
    {
      "cell_type": "markdown",
      "metadata": {
        "id": "kWmISU_-DP_l"
      },
      "source": [
        "---"
      ]
    },
    {
      "cell_type": "markdown",
      "metadata": {
        "id": "wmUC8gulmsu8"
      },
      "source": [
        "#### 3. Treat Null Values\n",
        "\n",
        "Check for the null values in the DataFrame.\n"
      ]
    },
    {
      "cell_type": "code",
      "metadata": {
        "id": "FchEirt6FXwf",
        "colab": {
          "base_uri": "https://localhost:8080/"
        },
        "outputId": "4233e528-bbea-4e08-90ed-0ca9f920b966"
      },
      "source": [
        "# Check for the percentage null values in all the columns.\n",
        "print(f\"The percentage of null values in all the columns are as follows: \\n{(life_expect_df.isnull().sum() / life_expect_df.shape[0]) * 100}.\")"
      ],
      "execution_count": null,
      "outputs": [
        {
          "output_type": "stream",
          "text": [
            "The percentage of null values in all the columns are as follows: \n",
            "Country                             0.000000\n",
            "Year                                0.000000\n",
            "Status                              0.000000\n",
            "Life expectancy                     0.340368\n",
            "Adult Mortality                     0.340368\n",
            "infant deaths                       0.000000\n",
            "Alcohol                             6.603131\n",
            "percentage expenditure              0.000000\n",
            "Hepatitis B                        18.822328\n",
            "Measles                             0.000000\n",
            "BMI                                 1.157250\n",
            "under-five deaths                   0.000000\n",
            "Polio                               0.646698\n",
            "Total expenditure                   7.692308\n",
            "Diphtheria                          0.646698\n",
            "HIV/AIDS                            0.000000\n",
            "GDP                                15.248468\n",
            "Population                         22.191967\n",
            "thinness  1-19 years                1.157250\n",
            "thinness 5-9 years                  1.157250\n",
            "Income composition of resources     5.684139\n",
            "Schooling                           5.547992\n",
            "dtype: float64.\n"
          ],
          "name": "stdout"
        }
      ]
    },
    {
      "cell_type": "markdown",
      "metadata": {
        "id": "UR4BEOggFfkC"
      },
      "source": [
        "Let's drop all the columns from the DataFrame containing more than 15% percent of the missing values.\n",
        "\n",
        "**Q:** Which columns need to be dropped?\n",
        "\n",
        "**A:**`Hepatitis B`, `GDP` and `Population` are the columns from the DataFrame containing more than 15% of the missing values."
      ]
    },
    {
      "cell_type": "code",
      "metadata": {
        "id": "ymnl5XNOHRmf",
        "colab": {
          "base_uri": "https://localhost:8080/"
        },
        "outputId": "f6746c6a-4292-4530-9890-de32004c81f8"
      },
      "source": [
        "# List of columns containing more than 15% of the missing values.\n",
        "for i in life_expect_df:\n",
        "  if (life_expect_df[i].isnull().sum() / life_expect_df.shape[0]) * 100 > 15:\n",
        "    print(i)"
      ],
      "execution_count": null,
      "outputs": [
        {
          "output_type": "stream",
          "text": [
            "Hepatitis B\n",
            "GDP\n",
            "Population\n"
          ],
          "name": "stdout"
        }
      ]
    },
    {
      "cell_type": "code",
      "metadata": {
        "id": "gJ0mt8VjGGsv",
        "colab": {
          "base_uri": "https://localhost:8080/",
          "height": 490
        },
        "outputId": "343fab13-4e5e-4259-a064-3882ecddb3f5"
      },
      "source": [
        "# Drop the columns containing more than 15% of the missing values.\n",
        "life_expect_df = life_expect_df.drop(columns = columns_drop)\n",
        "life_expect_df"
      ],
      "execution_count": null,
      "outputs": [
        {
          "output_type": "execute_result",
          "data": {
            "text/html": [
              "<div>\n",
              "<style scoped>\n",
              "    .dataframe tbody tr th:only-of-type {\n",
              "        vertical-align: middle;\n",
              "    }\n",
              "\n",
              "    .dataframe tbody tr th {\n",
              "        vertical-align: top;\n",
              "    }\n",
              "\n",
              "    .dataframe thead th {\n",
              "        text-align: right;\n",
              "    }\n",
              "</style>\n",
              "<table border=\"1\" class=\"dataframe\">\n",
              "  <thead>\n",
              "    <tr style=\"text-align: right;\">\n",
              "      <th></th>\n",
              "      <th>Country</th>\n",
              "      <th>Year</th>\n",
              "      <th>Status</th>\n",
              "      <th>Life expectancy</th>\n",
              "      <th>Adult Mortality</th>\n",
              "      <th>infant deaths</th>\n",
              "      <th>Alcohol</th>\n",
              "      <th>percentage expenditure</th>\n",
              "      <th>Measles</th>\n",
              "      <th>BMI</th>\n",
              "      <th>under-five deaths</th>\n",
              "      <th>Polio</th>\n",
              "      <th>Total expenditure</th>\n",
              "      <th>Diphtheria</th>\n",
              "      <th>HIV/AIDS</th>\n",
              "      <th>thinness  1-19 years</th>\n",
              "      <th>thinness 5-9 years</th>\n",
              "      <th>Income composition of resources</th>\n",
              "      <th>Schooling</th>\n",
              "    </tr>\n",
              "  </thead>\n",
              "  <tbody>\n",
              "    <tr>\n",
              "      <th>0</th>\n",
              "      <td>Afghanistan</td>\n",
              "      <td>2015</td>\n",
              "      <td>Developing</td>\n",
              "      <td>65.0</td>\n",
              "      <td>263.0</td>\n",
              "      <td>62</td>\n",
              "      <td>0.01</td>\n",
              "      <td>71.279624</td>\n",
              "      <td>1154</td>\n",
              "      <td>19.1</td>\n",
              "      <td>83</td>\n",
              "      <td>6.0</td>\n",
              "      <td>8.16</td>\n",
              "      <td>65.0</td>\n",
              "      <td>0.1</td>\n",
              "      <td>17.2</td>\n",
              "      <td>17.3</td>\n",
              "      <td>0.479</td>\n",
              "      <td>10.1</td>\n",
              "    </tr>\n",
              "    <tr>\n",
              "      <th>1</th>\n",
              "      <td>Afghanistan</td>\n",
              "      <td>2014</td>\n",
              "      <td>Developing</td>\n",
              "      <td>59.9</td>\n",
              "      <td>271.0</td>\n",
              "      <td>64</td>\n",
              "      <td>0.01</td>\n",
              "      <td>73.523582</td>\n",
              "      <td>492</td>\n",
              "      <td>18.6</td>\n",
              "      <td>86</td>\n",
              "      <td>58.0</td>\n",
              "      <td>8.18</td>\n",
              "      <td>62.0</td>\n",
              "      <td>0.1</td>\n",
              "      <td>17.5</td>\n",
              "      <td>17.5</td>\n",
              "      <td>0.476</td>\n",
              "      <td>10.0</td>\n",
              "    </tr>\n",
              "    <tr>\n",
              "      <th>2</th>\n",
              "      <td>Afghanistan</td>\n",
              "      <td>2013</td>\n",
              "      <td>Developing</td>\n",
              "      <td>59.9</td>\n",
              "      <td>268.0</td>\n",
              "      <td>66</td>\n",
              "      <td>0.01</td>\n",
              "      <td>73.219243</td>\n",
              "      <td>430</td>\n",
              "      <td>18.1</td>\n",
              "      <td>89</td>\n",
              "      <td>62.0</td>\n",
              "      <td>8.13</td>\n",
              "      <td>64.0</td>\n",
              "      <td>0.1</td>\n",
              "      <td>17.7</td>\n",
              "      <td>17.7</td>\n",
              "      <td>0.470</td>\n",
              "      <td>9.9</td>\n",
              "    </tr>\n",
              "    <tr>\n",
              "      <th>3</th>\n",
              "      <td>Afghanistan</td>\n",
              "      <td>2012</td>\n",
              "      <td>Developing</td>\n",
              "      <td>59.5</td>\n",
              "      <td>272.0</td>\n",
              "      <td>69</td>\n",
              "      <td>0.01</td>\n",
              "      <td>78.184215</td>\n",
              "      <td>2787</td>\n",
              "      <td>17.6</td>\n",
              "      <td>93</td>\n",
              "      <td>67.0</td>\n",
              "      <td>8.52</td>\n",
              "      <td>67.0</td>\n",
              "      <td>0.1</td>\n",
              "      <td>17.9</td>\n",
              "      <td>18.0</td>\n",
              "      <td>0.463</td>\n",
              "      <td>9.8</td>\n",
              "    </tr>\n",
              "    <tr>\n",
              "      <th>4</th>\n",
              "      <td>Afghanistan</td>\n",
              "      <td>2011</td>\n",
              "      <td>Developing</td>\n",
              "      <td>59.2</td>\n",
              "      <td>275.0</td>\n",
              "      <td>71</td>\n",
              "      <td>0.01</td>\n",
              "      <td>7.097109</td>\n",
              "      <td>3013</td>\n",
              "      <td>17.2</td>\n",
              "      <td>97</td>\n",
              "      <td>68.0</td>\n",
              "      <td>7.87</td>\n",
              "      <td>68.0</td>\n",
              "      <td>0.1</td>\n",
              "      <td>18.2</td>\n",
              "      <td>18.2</td>\n",
              "      <td>0.454</td>\n",
              "      <td>9.5</td>\n",
              "    </tr>\n",
              "    <tr>\n",
              "      <th>...</th>\n",
              "      <td>...</td>\n",
              "      <td>...</td>\n",
              "      <td>...</td>\n",
              "      <td>...</td>\n",
              "      <td>...</td>\n",
              "      <td>...</td>\n",
              "      <td>...</td>\n",
              "      <td>...</td>\n",
              "      <td>...</td>\n",
              "      <td>...</td>\n",
              "      <td>...</td>\n",
              "      <td>...</td>\n",
              "      <td>...</td>\n",
              "      <td>...</td>\n",
              "      <td>...</td>\n",
              "      <td>...</td>\n",
              "      <td>...</td>\n",
              "      <td>...</td>\n",
              "      <td>...</td>\n",
              "    </tr>\n",
              "    <tr>\n",
              "      <th>2933</th>\n",
              "      <td>Zimbabwe</td>\n",
              "      <td>2004</td>\n",
              "      <td>Developing</td>\n",
              "      <td>44.3</td>\n",
              "      <td>723.0</td>\n",
              "      <td>27</td>\n",
              "      <td>4.36</td>\n",
              "      <td>0.000000</td>\n",
              "      <td>31</td>\n",
              "      <td>27.1</td>\n",
              "      <td>42</td>\n",
              "      <td>67.0</td>\n",
              "      <td>7.13</td>\n",
              "      <td>65.0</td>\n",
              "      <td>33.6</td>\n",
              "      <td>9.4</td>\n",
              "      <td>9.4</td>\n",
              "      <td>0.407</td>\n",
              "      <td>9.2</td>\n",
              "    </tr>\n",
              "    <tr>\n",
              "      <th>2934</th>\n",
              "      <td>Zimbabwe</td>\n",
              "      <td>2003</td>\n",
              "      <td>Developing</td>\n",
              "      <td>44.5</td>\n",
              "      <td>715.0</td>\n",
              "      <td>26</td>\n",
              "      <td>4.06</td>\n",
              "      <td>0.000000</td>\n",
              "      <td>998</td>\n",
              "      <td>26.7</td>\n",
              "      <td>41</td>\n",
              "      <td>7.0</td>\n",
              "      <td>6.52</td>\n",
              "      <td>68.0</td>\n",
              "      <td>36.7</td>\n",
              "      <td>9.8</td>\n",
              "      <td>9.9</td>\n",
              "      <td>0.418</td>\n",
              "      <td>9.5</td>\n",
              "    </tr>\n",
              "    <tr>\n",
              "      <th>2935</th>\n",
              "      <td>Zimbabwe</td>\n",
              "      <td>2002</td>\n",
              "      <td>Developing</td>\n",
              "      <td>44.8</td>\n",
              "      <td>73.0</td>\n",
              "      <td>25</td>\n",
              "      <td>4.43</td>\n",
              "      <td>0.000000</td>\n",
              "      <td>304</td>\n",
              "      <td>26.3</td>\n",
              "      <td>40</td>\n",
              "      <td>73.0</td>\n",
              "      <td>6.53</td>\n",
              "      <td>71.0</td>\n",
              "      <td>39.8</td>\n",
              "      <td>1.2</td>\n",
              "      <td>1.3</td>\n",
              "      <td>0.427</td>\n",
              "      <td>10.0</td>\n",
              "    </tr>\n",
              "    <tr>\n",
              "      <th>2936</th>\n",
              "      <td>Zimbabwe</td>\n",
              "      <td>2001</td>\n",
              "      <td>Developing</td>\n",
              "      <td>45.3</td>\n",
              "      <td>686.0</td>\n",
              "      <td>25</td>\n",
              "      <td>1.72</td>\n",
              "      <td>0.000000</td>\n",
              "      <td>529</td>\n",
              "      <td>25.9</td>\n",
              "      <td>39</td>\n",
              "      <td>76.0</td>\n",
              "      <td>6.16</td>\n",
              "      <td>75.0</td>\n",
              "      <td>42.1</td>\n",
              "      <td>1.6</td>\n",
              "      <td>1.7</td>\n",
              "      <td>0.427</td>\n",
              "      <td>9.8</td>\n",
              "    </tr>\n",
              "    <tr>\n",
              "      <th>2937</th>\n",
              "      <td>Zimbabwe</td>\n",
              "      <td>2000</td>\n",
              "      <td>Developing</td>\n",
              "      <td>46.0</td>\n",
              "      <td>665.0</td>\n",
              "      <td>24</td>\n",
              "      <td>1.68</td>\n",
              "      <td>0.000000</td>\n",
              "      <td>1483</td>\n",
              "      <td>25.5</td>\n",
              "      <td>39</td>\n",
              "      <td>78.0</td>\n",
              "      <td>7.10</td>\n",
              "      <td>78.0</td>\n",
              "      <td>43.5</td>\n",
              "      <td>11.0</td>\n",
              "      <td>11.2</td>\n",
              "      <td>0.434</td>\n",
              "      <td>9.8</td>\n",
              "    </tr>\n",
              "  </tbody>\n",
              "</table>\n",
              "<p>2938 rows × 19 columns</p>\n",
              "</div>"
            ],
            "text/plain": [
              "          Country  Year  ... Income composition of resources  Schooling\n",
              "0     Afghanistan  2015  ...                           0.479       10.1\n",
              "1     Afghanistan  2014  ...                           0.476       10.0\n",
              "2     Afghanistan  2013  ...                           0.470        9.9\n",
              "3     Afghanistan  2012  ...                           0.463        9.8\n",
              "4     Afghanistan  2011  ...                           0.454        9.5\n",
              "...           ...   ...  ...                             ...        ...\n",
              "2933     Zimbabwe  2004  ...                           0.407        9.2\n",
              "2934     Zimbabwe  2003  ...                           0.418        9.5\n",
              "2935     Zimbabwe  2002  ...                           0.427       10.0\n",
              "2936     Zimbabwe  2001  ...                           0.427        9.8\n",
              "2937     Zimbabwe  2000  ...                           0.434        9.8\n",
              "\n",
              "[2938 rows x 19 columns]"
            ]
          },
          "metadata": {
            "tags": []
          },
          "execution_count": 424
        }
      ]
    },
    {
      "cell_type": "markdown",
      "metadata": {
        "id": "S0eiYoEYHP5T"
      },
      "source": [
        "Replace the null values with the respective median of the columns.\n",
        "\n",
        "**Hint:** To replace the null values with their respective median, you can use `fillna()` function. Some of the examples are:\n",
        "\n",
        "- `df.fillna('0')` $\\rightarrow$ Replaces all null values in the DataFrame `df` with `0`.\n",
        "\n",
        "- `df.fillna('0', inplace = True)` $\\rightarrow$ Here the `inplace = True` parameter instructs to replace the null values in-place i.e. directly inside the DataFrame without creating its copy. It is an optional parameter.\n",
        "\n",
        "- `df['column_name'].fillna(df['column_name'].median(), inplace = True)` $\\rightarrow$ Replaces all null values of a column with its median.\n",
        "\n",
        "\n",
        "\n",
        "\n"
      ]
    },
    {
      "cell_type": "code",
      "metadata": {
        "id": "iXo7oC3oItEn",
        "colab": {
          "base_uri": "https://localhost:8080/"
        },
        "outputId": "0fcaa3e8-16ad-4119-a367-414731e383d6"
      },
      "source": [
        "# Get the columns having the null values.\n",
        "life_expect_df.isnull().sum()"
      ],
      "execution_count": null,
      "outputs": [
        {
          "output_type": "execute_result",
          "data": {
            "text/plain": [
              "Country                              0\n",
              "Year                                 0\n",
              "Status                               0\n",
              "Life expectancy                     10\n",
              "Adult Mortality                     10\n",
              "infant deaths                        0\n",
              "Alcohol                            194\n",
              "percentage expenditure               0\n",
              "Measles                              0\n",
              "BMI                                 34\n",
              "under-five deaths                    0\n",
              "Polio                               19\n",
              "Total expenditure                  226\n",
              "Diphtheria                          19\n",
              "HIV/AIDS                             0\n",
              "thinness  1-19 years                34\n",
              "thinness 5-9 years                  34\n",
              "Income composition of resources    167\n",
              "Schooling                          163\n",
              "dtype: int64"
            ]
          },
          "metadata": {
            "tags": []
          },
          "execution_count": 425
        }
      ]
    },
    {
      "cell_type": "markdown",
      "metadata": {
        "id": "Hl0X8hSHU8P4"
      },
      "source": [
        "Before replacing the null values, let's split our DataFrame into two separate DataFrames based on the development status of the countries."
      ]
    },
    {
      "cell_type": "code",
      "metadata": {
        "id": "8UpUeRXxZRqw",
        "colab": {
          "base_uri": "https://localhost:8080/",
          "height": 745
        },
        "outputId": "4c0ed44f-64cb-4345-af8d-91bb9ba442cf"
      },
      "source": [
        "# Grouping the DataFrame based on the development status of countries. First get the DataFrame of the developed countries\n",
        "developed_df = life_expect_df[life_expect_df['Status'] == 'Developed']\n",
        "developed_df"
      ],
      "execution_count": null,
      "outputs": [
        {
          "output_type": "execute_result",
          "data": {
            "text/html": [
              "<div>\n",
              "<style scoped>\n",
              "    .dataframe tbody tr th:only-of-type {\n",
              "        vertical-align: middle;\n",
              "    }\n",
              "\n",
              "    .dataframe tbody tr th {\n",
              "        vertical-align: top;\n",
              "    }\n",
              "\n",
              "    .dataframe thead th {\n",
              "        text-align: right;\n",
              "    }\n",
              "</style>\n",
              "<table border=\"1\" class=\"dataframe\">\n",
              "  <thead>\n",
              "    <tr style=\"text-align: right;\">\n",
              "      <th></th>\n",
              "      <th>Country</th>\n",
              "      <th>Year</th>\n",
              "      <th>Status</th>\n",
              "      <th>Life expectancy</th>\n",
              "      <th>Adult Mortality</th>\n",
              "      <th>infant deaths</th>\n",
              "      <th>Alcohol</th>\n",
              "      <th>percentage expenditure</th>\n",
              "      <th>Measles</th>\n",
              "      <th>BMI</th>\n",
              "      <th>under-five deaths</th>\n",
              "      <th>Polio</th>\n",
              "      <th>Total expenditure</th>\n",
              "      <th>Diphtheria</th>\n",
              "      <th>HIV/AIDS</th>\n",
              "      <th>thinness  1-19 years</th>\n",
              "      <th>thinness 5-9 years</th>\n",
              "      <th>Income composition of resources</th>\n",
              "      <th>Schooling</th>\n",
              "    </tr>\n",
              "  </thead>\n",
              "  <tbody>\n",
              "    <tr>\n",
              "      <th>112</th>\n",
              "      <td>Australia</td>\n",
              "      <td>2015</td>\n",
              "      <td>Developed</td>\n",
              "      <td>82.8</td>\n",
              "      <td>59.0</td>\n",
              "      <td>1</td>\n",
              "      <td>NaN</td>\n",
              "      <td>0.00000</td>\n",
              "      <td>74</td>\n",
              "      <td>66.6</td>\n",
              "      <td>1</td>\n",
              "      <td>93.0</td>\n",
              "      <td>NaN</td>\n",
              "      <td>93.0</td>\n",
              "      <td>0.1</td>\n",
              "      <td>0.6</td>\n",
              "      <td>0.6</td>\n",
              "      <td>0.937</td>\n",
              "      <td>20.4</td>\n",
              "    </tr>\n",
              "    <tr>\n",
              "      <th>113</th>\n",
              "      <td>Australia</td>\n",
              "      <td>2014</td>\n",
              "      <td>Developed</td>\n",
              "      <td>82.7</td>\n",
              "      <td>6.0</td>\n",
              "      <td>1</td>\n",
              "      <td>9.71</td>\n",
              "      <td>10769.36305</td>\n",
              "      <td>340</td>\n",
              "      <td>66.1</td>\n",
              "      <td>1</td>\n",
              "      <td>92.0</td>\n",
              "      <td>9.42</td>\n",
              "      <td>92.0</td>\n",
              "      <td>0.1</td>\n",
              "      <td>0.6</td>\n",
              "      <td>0.6</td>\n",
              "      <td>0.936</td>\n",
              "      <td>20.4</td>\n",
              "    </tr>\n",
              "    <tr>\n",
              "      <th>114</th>\n",
              "      <td>Australia</td>\n",
              "      <td>2013</td>\n",
              "      <td>Developed</td>\n",
              "      <td>82.5</td>\n",
              "      <td>61.0</td>\n",
              "      <td>1</td>\n",
              "      <td>9.87</td>\n",
              "      <td>11734.85381</td>\n",
              "      <td>158</td>\n",
              "      <td>65.5</td>\n",
              "      <td>1</td>\n",
              "      <td>91.0</td>\n",
              "      <td>9.36</td>\n",
              "      <td>91.0</td>\n",
              "      <td>0.1</td>\n",
              "      <td>0.6</td>\n",
              "      <td>0.6</td>\n",
              "      <td>0.933</td>\n",
              "      <td>20.3</td>\n",
              "    </tr>\n",
              "    <tr>\n",
              "      <th>115</th>\n",
              "      <td>Australia</td>\n",
              "      <td>2012</td>\n",
              "      <td>Developed</td>\n",
              "      <td>82.3</td>\n",
              "      <td>61.0</td>\n",
              "      <td>1</td>\n",
              "      <td>10.03</td>\n",
              "      <td>11714.99858</td>\n",
              "      <td>199</td>\n",
              "      <td>65.0</td>\n",
              "      <td>1</td>\n",
              "      <td>92.0</td>\n",
              "      <td>9.36</td>\n",
              "      <td>92.0</td>\n",
              "      <td>0.1</td>\n",
              "      <td>0.6</td>\n",
              "      <td>0.6</td>\n",
              "      <td>0.930</td>\n",
              "      <td>20.1</td>\n",
              "    </tr>\n",
              "    <tr>\n",
              "      <th>116</th>\n",
              "      <td>Australia</td>\n",
              "      <td>2011</td>\n",
              "      <td>Developed</td>\n",
              "      <td>82.0</td>\n",
              "      <td>63.0</td>\n",
              "      <td>1</td>\n",
              "      <td>10.30</td>\n",
              "      <td>10986.26527</td>\n",
              "      <td>190</td>\n",
              "      <td>64.4</td>\n",
              "      <td>1</td>\n",
              "      <td>92.0</td>\n",
              "      <td>9.20</td>\n",
              "      <td>92.0</td>\n",
              "      <td>0.1</td>\n",
              "      <td>0.6</td>\n",
              "      <td>0.6</td>\n",
              "      <td>0.927</td>\n",
              "      <td>19.8</td>\n",
              "    </tr>\n",
              "    <tr>\n",
              "      <th>...</th>\n",
              "      <td>...</td>\n",
              "      <td>...</td>\n",
              "      <td>...</td>\n",
              "      <td>...</td>\n",
              "      <td>...</td>\n",
              "      <td>...</td>\n",
              "      <td>...</td>\n",
              "      <td>...</td>\n",
              "      <td>...</td>\n",
              "      <td>...</td>\n",
              "      <td>...</td>\n",
              "      <td>...</td>\n",
              "      <td>...</td>\n",
              "      <td>...</td>\n",
              "      <td>...</td>\n",
              "      <td>...</td>\n",
              "      <td>...</td>\n",
              "      <td>...</td>\n",
              "      <td>...</td>\n",
              "    </tr>\n",
              "    <tr>\n",
              "      <th>2805</th>\n",
              "      <td>United States of America</td>\n",
              "      <td>2004</td>\n",
              "      <td>Developed</td>\n",
              "      <td>77.5</td>\n",
              "      <td>111.0</td>\n",
              "      <td>28</td>\n",
              "      <td>8.48</td>\n",
              "      <td>0.00000</td>\n",
              "      <td>37</td>\n",
              "      <td>63.1</td>\n",
              "      <td>33</td>\n",
              "      <td>92.0</td>\n",
              "      <td>15.14</td>\n",
              "      <td>96.0</td>\n",
              "      <td>0.1</td>\n",
              "      <td>0.7</td>\n",
              "      <td>0.6</td>\n",
              "      <td>NaN</td>\n",
              "      <td>NaN</td>\n",
              "    </tr>\n",
              "    <tr>\n",
              "      <th>2806</th>\n",
              "      <td>United States of America</td>\n",
              "      <td>2003</td>\n",
              "      <td>Developed</td>\n",
              "      <td>77.2</td>\n",
              "      <td>114.0</td>\n",
              "      <td>28</td>\n",
              "      <td>8.40</td>\n",
              "      <td>0.00000</td>\n",
              "      <td>56</td>\n",
              "      <td>62.4</td>\n",
              "      <td>33</td>\n",
              "      <td>91.0</td>\n",
              "      <td>15.60</td>\n",
              "      <td>96.0</td>\n",
              "      <td>0.1</td>\n",
              "      <td>0.7</td>\n",
              "      <td>0.6</td>\n",
              "      <td>NaN</td>\n",
              "      <td>NaN</td>\n",
              "    </tr>\n",
              "    <tr>\n",
              "      <th>2807</th>\n",
              "      <td>United States of America</td>\n",
              "      <td>2002</td>\n",
              "      <td>Developed</td>\n",
              "      <td>77.0</td>\n",
              "      <td>115.0</td>\n",
              "      <td>28</td>\n",
              "      <td>8.33</td>\n",
              "      <td>0.00000</td>\n",
              "      <td>41</td>\n",
              "      <td>61.7</td>\n",
              "      <td>33</td>\n",
              "      <td>9.0</td>\n",
              "      <td>14.55</td>\n",
              "      <td>94.0</td>\n",
              "      <td>0.1</td>\n",
              "      <td>0.8</td>\n",
              "      <td>0.6</td>\n",
              "      <td>NaN</td>\n",
              "      <td>NaN</td>\n",
              "    </tr>\n",
              "    <tr>\n",
              "      <th>2808</th>\n",
              "      <td>United States of America</td>\n",
              "      <td>2001</td>\n",
              "      <td>Developed</td>\n",
              "      <td>76.9</td>\n",
              "      <td>115.0</td>\n",
              "      <td>28</td>\n",
              "      <td>8.25</td>\n",
              "      <td>0.00000</td>\n",
              "      <td>116</td>\n",
              "      <td>6.9</td>\n",
              "      <td>33</td>\n",
              "      <td>89.0</td>\n",
              "      <td>13.73</td>\n",
              "      <td>94.0</td>\n",
              "      <td>0.1</td>\n",
              "      <td>0.8</td>\n",
              "      <td>0.6</td>\n",
              "      <td>NaN</td>\n",
              "      <td>NaN</td>\n",
              "    </tr>\n",
              "    <tr>\n",
              "      <th>2809</th>\n",
              "      <td>United States of America</td>\n",
              "      <td>2000</td>\n",
              "      <td>Developed</td>\n",
              "      <td>76.8</td>\n",
              "      <td>114.0</td>\n",
              "      <td>28</td>\n",
              "      <td>8.21</td>\n",
              "      <td>0.00000</td>\n",
              "      <td>85</td>\n",
              "      <td>6.1</td>\n",
              "      <td>33</td>\n",
              "      <td>9.0</td>\n",
              "      <td>13.70</td>\n",
              "      <td>94.0</td>\n",
              "      <td>0.1</td>\n",
              "      <td>0.8</td>\n",
              "      <td>0.7</td>\n",
              "      <td>NaN</td>\n",
              "      <td>NaN</td>\n",
              "    </tr>\n",
              "  </tbody>\n",
              "</table>\n",
              "<p>512 rows × 19 columns</p>\n",
              "</div>"
            ],
            "text/plain": [
              "                       Country  ...  Schooling\n",
              "112                  Australia  ...       20.4\n",
              "113                  Australia  ...       20.4\n",
              "114                  Australia  ...       20.3\n",
              "115                  Australia  ...       20.1\n",
              "116                  Australia  ...       19.8\n",
              "...                        ...  ...        ...\n",
              "2805  United States of America  ...        NaN\n",
              "2806  United States of America  ...        NaN\n",
              "2807  United States of America  ...        NaN\n",
              "2808  United States of America  ...        NaN\n",
              "2809  United States of America  ...        NaN\n",
              "\n",
              "[512 rows x 19 columns]"
            ]
          },
          "metadata": {
            "tags": []
          },
          "execution_count": 426
        }
      ]
    },
    {
      "cell_type": "code",
      "metadata": {
        "id": "mALnE8kGHd5A",
        "colab": {
          "base_uri": "https://localhost:8080/"
        },
        "outputId": "37a8e1f7-199e-4387-c402-86413b480d32"
      },
      "source": [
        "# Check for the null values in the developed countries DataFrame\n",
        "developed_df.isnull().sum()"
      ],
      "execution_count": null,
      "outputs": [
        {
          "output_type": "execute_result",
          "data": {
            "text/plain": [
              "Country                             0\n",
              "Year                                0\n",
              "Status                              0\n",
              "Life expectancy                     0\n",
              "Adult Mortality                     0\n",
              "infant deaths                       0\n",
              "Alcohol                            28\n",
              "percentage expenditure              0\n",
              "Measles                             0\n",
              "BMI                                 0\n",
              "under-five deaths                   0\n",
              "Polio                               0\n",
              "Total expenditure                  32\n",
              "Diphtheria                          0\n",
              "HIV/AIDS                            0\n",
              "thinness  1-19 years                0\n",
              "thinness 5-9 years                  0\n",
              "Income composition of resources    48\n",
              "Schooling                          48\n",
              "dtype: int64"
            ]
          },
          "metadata": {
            "tags": []
          },
          "execution_count": 427
        }
      ]
    },
    {
      "cell_type": "code",
      "metadata": {
        "id": "0eSX3GoCH9SW",
        "colab": {
          "base_uri": "https://localhost:8080/"
        },
        "outputId": "b8f67c0b-9649-4091-c791-9570a37382f7"
      },
      "source": [
        "# Get the columns having the null values in the developed countries DataFrame\n",
        "null_columns = []\n",
        "for i in developed_df.columns:\n",
        "  if developed_df[i].isnull().sum() > 0:\n",
        "    null_columns.append(i)\n",
        "null_columns"
      ],
      "execution_count": null,
      "outputs": [
        {
          "output_type": "execute_result",
          "data": {
            "text/plain": [
              "['Alcohol',\n",
              " 'Total expenditure',\n",
              " 'Income composition of resources',\n",
              " 'Schooling']"
            ]
          },
          "metadata": {
            "tags": []
          },
          "execution_count": 428
        }
      ]
    },
    {
      "cell_type": "code",
      "metadata": {
        "id": "SGaMndaMX2QR",
        "colab": {
          "base_uri": "https://localhost:8080/"
        },
        "outputId": "f8fe86ea-c9d9-47bb-d665-67467deea52f"
      },
      "source": [
        "# Get a descriptive statistics summary of the columns having the null values in the developed countries DataFrame\n",
        "for i in null_columns:\n",
        "  print(developed_df[i].describe())"
      ],
      "execution_count": null,
      "outputs": [
        {
          "output_type": "stream",
          "text": [
            "count    484.000000\n",
            "mean       9.826736\n",
            "std        2.765858\n",
            "min        0.010000\n",
            "25%        8.617500\n",
            "50%       10.320000\n",
            "75%       11.697500\n",
            "max       15.190000\n",
            "Name: Alcohol, dtype: float64\n",
            "count    480.000000\n",
            "mean       7.554042\n",
            "std        2.984389\n",
            "min        1.100000\n",
            "25%        6.407500\n",
            "50%        7.895000\n",
            "75%        9.212500\n",
            "max       17.600000\n",
            "Name: Total expenditure, dtype: float64\n",
            "count    464.000000\n",
            "mean       0.852489\n",
            "std        0.052843\n",
            "min        0.703000\n",
            "25%        0.815000\n",
            "50%        0.862000\n",
            "75%        0.894000\n",
            "max        0.948000\n",
            "Name: Income composition of resources, dtype: float64\n",
            "count    464.000000\n",
            "mean      15.845474\n",
            "std        1.766799\n",
            "min       11.500000\n",
            "25%       14.700000\n",
            "50%       15.800000\n",
            "75%       16.800000\n",
            "max       20.700000\n",
            "Name: Schooling, dtype: float64\n"
          ],
          "name": "stdout"
        }
      ]
    },
    {
      "cell_type": "code",
      "metadata": {
        "id": "zxKHOrvQEpiO",
        "colab": {
          "base_uri": "https://localhost:8080/"
        },
        "outputId": "c0469da4-2f0f-421d-9954-6aaf4d1a97cf"
      },
      "source": [
        "# Replace the missing values of the developed countries DataFrame with the median value of the respective columns.\n",
        "for i in null_columns:\n",
        "  developed_df[i].fillna(developed_df[i].median(), inplace = True)"
      ],
      "execution_count": null,
      "outputs": [
        {
          "output_type": "stream",
          "text": [
            "/usr/local/lib/python3.6/dist-packages/pandas/core/series.py:4536: SettingWithCopyWarning: \n",
            "A value is trying to be set on a copy of a slice from a DataFrame\n",
            "\n",
            "See the caveats in the documentation: https://pandas.pydata.org/pandas-docs/stable/user_guide/indexing.html#returning-a-view-versus-a-copy\n",
            "  downcast=downcast,\n"
          ],
          "name": "stderr"
        }
      ]
    },
    {
      "cell_type": "code",
      "metadata": {
        "id": "hbnrKqcJGKqD",
        "colab": {
          "base_uri": "https://localhost:8080/"
        },
        "outputId": "a466dd70-bfc7-4efd-b027-59a53f51c3d0"
      },
      "source": [
        "# Again get a descriptive statistics summary of the columns having null values in the developed countries DataFrame.\n",
        "# This is done to verify that the replaced values did not disrupt the data\n",
        "for i in null_columns:\n",
        "  print(developed_df[i].describe())"
      ],
      "execution_count": null,
      "outputs": [
        {
          "output_type": "stream",
          "text": [
            "count    512.000000\n",
            "mean       9.853711\n",
            "std        2.691356\n",
            "min        0.010000\n",
            "25%        8.740000\n",
            "50%       10.320000\n",
            "75%       11.582500\n",
            "max       15.190000\n",
            "Name: Alcohol, dtype: float64\n",
            "count    512.000000\n",
            "mean       7.575352\n",
            "std        2.890614\n",
            "min        1.100000\n",
            "25%        6.542500\n",
            "50%        7.895000\n",
            "75%        9.140000\n",
            "max       17.600000\n",
            "Name: Total expenditure, dtype: float64\n",
            "count    512.000000\n",
            "mean       0.853381\n",
            "std        0.050377\n",
            "min        0.703000\n",
            "25%        0.819750\n",
            "50%        0.862000\n",
            "75%        0.891250\n",
            "max        0.948000\n",
            "Name: Income composition of resources, dtype: float64\n",
            "count    512.000000\n",
            "mean      15.841211\n",
            "std        1.681824\n",
            "min       11.500000\n",
            "25%       14.800000\n",
            "50%       15.800000\n",
            "75%       16.600000\n",
            "max       20.700000\n",
            "Name: Schooling, dtype: float64\n"
          ],
          "name": "stdout"
        }
      ]
    },
    {
      "cell_type": "markdown",
      "metadata": {
        "id": "H31A9ZkpXXY8"
      },
      "source": [
        "**Note:** Make sure that there is no major change in the mean, std, min, 25%, 50%, 75% and max values after replacing null values."
      ]
    },
    {
      "cell_type": "code",
      "metadata": {
        "id": "P7xxlveYMpg_",
        "colab": {
          "base_uri": "https://localhost:8080/"
        },
        "outputId": "82d1dc18-f587-4355-97ac-5931ebcd3198"
      },
      "source": [
        "# Again check whether there are any missing values\n",
        "developed_df.isnull().sum()"
      ],
      "execution_count": null,
      "outputs": [
        {
          "output_type": "execute_result",
          "data": {
            "text/plain": [
              "Country                            0\n",
              "Year                               0\n",
              "Status                             0\n",
              "Life expectancy                    0\n",
              "Adult Mortality                    0\n",
              "infant deaths                      0\n",
              "Alcohol                            0\n",
              "percentage expenditure             0\n",
              "Measles                            0\n",
              "BMI                                0\n",
              "under-five deaths                  0\n",
              "Polio                              0\n",
              "Total expenditure                  0\n",
              "Diphtheria                         0\n",
              "HIV/AIDS                           0\n",
              "thinness  1-19 years               0\n",
              "thinness 5-9 years                 0\n",
              "Income composition of resources    0\n",
              "Schooling                          0\n",
              "dtype: int64"
            ]
          },
          "metadata": {
            "tags": []
          },
          "execution_count": 432
        }
      ]
    },
    {
      "cell_type": "code",
      "metadata": {
        "id": "VTxn8dmNZfv3",
        "colab": {
          "base_uri": "https://localhost:8080/",
          "height": 490
        },
        "outputId": "d91b4ba2-dc4c-47a5-cd5d-75dcf8dcf776"
      },
      "source": [
        "# Get the DataFrame of the developing countries\n",
        "developing_df = life_expect_df[life_expect_df['Status'] == 'Developing']\n",
        "developing_df"
      ],
      "execution_count": null,
      "outputs": [
        {
          "output_type": "execute_result",
          "data": {
            "text/html": [
              "<div>\n",
              "<style scoped>\n",
              "    .dataframe tbody tr th:only-of-type {\n",
              "        vertical-align: middle;\n",
              "    }\n",
              "\n",
              "    .dataframe tbody tr th {\n",
              "        vertical-align: top;\n",
              "    }\n",
              "\n",
              "    .dataframe thead th {\n",
              "        text-align: right;\n",
              "    }\n",
              "</style>\n",
              "<table border=\"1\" class=\"dataframe\">\n",
              "  <thead>\n",
              "    <tr style=\"text-align: right;\">\n",
              "      <th></th>\n",
              "      <th>Country</th>\n",
              "      <th>Year</th>\n",
              "      <th>Status</th>\n",
              "      <th>Life expectancy</th>\n",
              "      <th>Adult Mortality</th>\n",
              "      <th>infant deaths</th>\n",
              "      <th>Alcohol</th>\n",
              "      <th>percentage expenditure</th>\n",
              "      <th>Measles</th>\n",
              "      <th>BMI</th>\n",
              "      <th>under-five deaths</th>\n",
              "      <th>Polio</th>\n",
              "      <th>Total expenditure</th>\n",
              "      <th>Diphtheria</th>\n",
              "      <th>HIV/AIDS</th>\n",
              "      <th>thinness  1-19 years</th>\n",
              "      <th>thinness 5-9 years</th>\n",
              "      <th>Income composition of resources</th>\n",
              "      <th>Schooling</th>\n",
              "    </tr>\n",
              "  </thead>\n",
              "  <tbody>\n",
              "    <tr>\n",
              "      <th>0</th>\n",
              "      <td>Afghanistan</td>\n",
              "      <td>2015</td>\n",
              "      <td>Developing</td>\n",
              "      <td>65.0</td>\n",
              "      <td>263.0</td>\n",
              "      <td>62</td>\n",
              "      <td>0.01</td>\n",
              "      <td>71.279624</td>\n",
              "      <td>1154</td>\n",
              "      <td>19.1</td>\n",
              "      <td>83</td>\n",
              "      <td>6.0</td>\n",
              "      <td>8.16</td>\n",
              "      <td>65.0</td>\n",
              "      <td>0.1</td>\n",
              "      <td>17.2</td>\n",
              "      <td>17.3</td>\n",
              "      <td>0.479</td>\n",
              "      <td>10.1</td>\n",
              "    </tr>\n",
              "    <tr>\n",
              "      <th>1</th>\n",
              "      <td>Afghanistan</td>\n",
              "      <td>2014</td>\n",
              "      <td>Developing</td>\n",
              "      <td>59.9</td>\n",
              "      <td>271.0</td>\n",
              "      <td>64</td>\n",
              "      <td>0.01</td>\n",
              "      <td>73.523582</td>\n",
              "      <td>492</td>\n",
              "      <td>18.6</td>\n",
              "      <td>86</td>\n",
              "      <td>58.0</td>\n",
              "      <td>8.18</td>\n",
              "      <td>62.0</td>\n",
              "      <td>0.1</td>\n",
              "      <td>17.5</td>\n",
              "      <td>17.5</td>\n",
              "      <td>0.476</td>\n",
              "      <td>10.0</td>\n",
              "    </tr>\n",
              "    <tr>\n",
              "      <th>2</th>\n",
              "      <td>Afghanistan</td>\n",
              "      <td>2013</td>\n",
              "      <td>Developing</td>\n",
              "      <td>59.9</td>\n",
              "      <td>268.0</td>\n",
              "      <td>66</td>\n",
              "      <td>0.01</td>\n",
              "      <td>73.219243</td>\n",
              "      <td>430</td>\n",
              "      <td>18.1</td>\n",
              "      <td>89</td>\n",
              "      <td>62.0</td>\n",
              "      <td>8.13</td>\n",
              "      <td>64.0</td>\n",
              "      <td>0.1</td>\n",
              "      <td>17.7</td>\n",
              "      <td>17.7</td>\n",
              "      <td>0.470</td>\n",
              "      <td>9.9</td>\n",
              "    </tr>\n",
              "    <tr>\n",
              "      <th>3</th>\n",
              "      <td>Afghanistan</td>\n",
              "      <td>2012</td>\n",
              "      <td>Developing</td>\n",
              "      <td>59.5</td>\n",
              "      <td>272.0</td>\n",
              "      <td>69</td>\n",
              "      <td>0.01</td>\n",
              "      <td>78.184215</td>\n",
              "      <td>2787</td>\n",
              "      <td>17.6</td>\n",
              "      <td>93</td>\n",
              "      <td>67.0</td>\n",
              "      <td>8.52</td>\n",
              "      <td>67.0</td>\n",
              "      <td>0.1</td>\n",
              "      <td>17.9</td>\n",
              "      <td>18.0</td>\n",
              "      <td>0.463</td>\n",
              "      <td>9.8</td>\n",
              "    </tr>\n",
              "    <tr>\n",
              "      <th>4</th>\n",
              "      <td>Afghanistan</td>\n",
              "      <td>2011</td>\n",
              "      <td>Developing</td>\n",
              "      <td>59.2</td>\n",
              "      <td>275.0</td>\n",
              "      <td>71</td>\n",
              "      <td>0.01</td>\n",
              "      <td>7.097109</td>\n",
              "      <td>3013</td>\n",
              "      <td>17.2</td>\n",
              "      <td>97</td>\n",
              "      <td>68.0</td>\n",
              "      <td>7.87</td>\n",
              "      <td>68.0</td>\n",
              "      <td>0.1</td>\n",
              "      <td>18.2</td>\n",
              "      <td>18.2</td>\n",
              "      <td>0.454</td>\n",
              "      <td>9.5</td>\n",
              "    </tr>\n",
              "    <tr>\n",
              "      <th>...</th>\n",
              "      <td>...</td>\n",
              "      <td>...</td>\n",
              "      <td>...</td>\n",
              "      <td>...</td>\n",
              "      <td>...</td>\n",
              "      <td>...</td>\n",
              "      <td>...</td>\n",
              "      <td>...</td>\n",
              "      <td>...</td>\n",
              "      <td>...</td>\n",
              "      <td>...</td>\n",
              "      <td>...</td>\n",
              "      <td>...</td>\n",
              "      <td>...</td>\n",
              "      <td>...</td>\n",
              "      <td>...</td>\n",
              "      <td>...</td>\n",
              "      <td>...</td>\n",
              "      <td>...</td>\n",
              "    </tr>\n",
              "    <tr>\n",
              "      <th>2933</th>\n",
              "      <td>Zimbabwe</td>\n",
              "      <td>2004</td>\n",
              "      <td>Developing</td>\n",
              "      <td>44.3</td>\n",
              "      <td>723.0</td>\n",
              "      <td>27</td>\n",
              "      <td>4.36</td>\n",
              "      <td>0.000000</td>\n",
              "      <td>31</td>\n",
              "      <td>27.1</td>\n",
              "      <td>42</td>\n",
              "      <td>67.0</td>\n",
              "      <td>7.13</td>\n",
              "      <td>65.0</td>\n",
              "      <td>33.6</td>\n",
              "      <td>9.4</td>\n",
              "      <td>9.4</td>\n",
              "      <td>0.407</td>\n",
              "      <td>9.2</td>\n",
              "    </tr>\n",
              "    <tr>\n",
              "      <th>2934</th>\n",
              "      <td>Zimbabwe</td>\n",
              "      <td>2003</td>\n",
              "      <td>Developing</td>\n",
              "      <td>44.5</td>\n",
              "      <td>715.0</td>\n",
              "      <td>26</td>\n",
              "      <td>4.06</td>\n",
              "      <td>0.000000</td>\n",
              "      <td>998</td>\n",
              "      <td>26.7</td>\n",
              "      <td>41</td>\n",
              "      <td>7.0</td>\n",
              "      <td>6.52</td>\n",
              "      <td>68.0</td>\n",
              "      <td>36.7</td>\n",
              "      <td>9.8</td>\n",
              "      <td>9.9</td>\n",
              "      <td>0.418</td>\n",
              "      <td>9.5</td>\n",
              "    </tr>\n",
              "    <tr>\n",
              "      <th>2935</th>\n",
              "      <td>Zimbabwe</td>\n",
              "      <td>2002</td>\n",
              "      <td>Developing</td>\n",
              "      <td>44.8</td>\n",
              "      <td>73.0</td>\n",
              "      <td>25</td>\n",
              "      <td>4.43</td>\n",
              "      <td>0.000000</td>\n",
              "      <td>304</td>\n",
              "      <td>26.3</td>\n",
              "      <td>40</td>\n",
              "      <td>73.0</td>\n",
              "      <td>6.53</td>\n",
              "      <td>71.0</td>\n",
              "      <td>39.8</td>\n",
              "      <td>1.2</td>\n",
              "      <td>1.3</td>\n",
              "      <td>0.427</td>\n",
              "      <td>10.0</td>\n",
              "    </tr>\n",
              "    <tr>\n",
              "      <th>2936</th>\n",
              "      <td>Zimbabwe</td>\n",
              "      <td>2001</td>\n",
              "      <td>Developing</td>\n",
              "      <td>45.3</td>\n",
              "      <td>686.0</td>\n",
              "      <td>25</td>\n",
              "      <td>1.72</td>\n",
              "      <td>0.000000</td>\n",
              "      <td>529</td>\n",
              "      <td>25.9</td>\n",
              "      <td>39</td>\n",
              "      <td>76.0</td>\n",
              "      <td>6.16</td>\n",
              "      <td>75.0</td>\n",
              "      <td>42.1</td>\n",
              "      <td>1.6</td>\n",
              "      <td>1.7</td>\n",
              "      <td>0.427</td>\n",
              "      <td>9.8</td>\n",
              "    </tr>\n",
              "    <tr>\n",
              "      <th>2937</th>\n",
              "      <td>Zimbabwe</td>\n",
              "      <td>2000</td>\n",
              "      <td>Developing</td>\n",
              "      <td>46.0</td>\n",
              "      <td>665.0</td>\n",
              "      <td>24</td>\n",
              "      <td>1.68</td>\n",
              "      <td>0.000000</td>\n",
              "      <td>1483</td>\n",
              "      <td>25.5</td>\n",
              "      <td>39</td>\n",
              "      <td>78.0</td>\n",
              "      <td>7.10</td>\n",
              "      <td>78.0</td>\n",
              "      <td>43.5</td>\n",
              "      <td>11.0</td>\n",
              "      <td>11.2</td>\n",
              "      <td>0.434</td>\n",
              "      <td>9.8</td>\n",
              "    </tr>\n",
              "  </tbody>\n",
              "</table>\n",
              "<p>2426 rows × 19 columns</p>\n",
              "</div>"
            ],
            "text/plain": [
              "          Country  Year  ... Income composition of resources  Schooling\n",
              "0     Afghanistan  2015  ...                           0.479       10.1\n",
              "1     Afghanistan  2014  ...                           0.476       10.0\n",
              "2     Afghanistan  2013  ...                           0.470        9.9\n",
              "3     Afghanistan  2012  ...                           0.463        9.8\n",
              "4     Afghanistan  2011  ...                           0.454        9.5\n",
              "...           ...   ...  ...                             ...        ...\n",
              "2933     Zimbabwe  2004  ...                           0.407        9.2\n",
              "2934     Zimbabwe  2003  ...                           0.418        9.5\n",
              "2935     Zimbabwe  2002  ...                           0.427       10.0\n",
              "2936     Zimbabwe  2001  ...                           0.427        9.8\n",
              "2937     Zimbabwe  2000  ...                           0.434        9.8\n",
              "\n",
              "[2426 rows x 19 columns]"
            ]
          },
          "metadata": {
            "tags": []
          },
          "execution_count": 433
        }
      ]
    },
    {
      "cell_type": "code",
      "metadata": {
        "id": "vwh_CmUyKSk5",
        "colab": {
          "base_uri": "https://localhost:8080/"
        },
        "outputId": "04fbfb0d-dafc-44bc-e44a-9ff9bc944219"
      },
      "source": [
        "# Check for the null values in the developing countries DataFrame\n",
        "developing_df.isnull().sum()"
      ],
      "execution_count": null,
      "outputs": [
        {
          "output_type": "execute_result",
          "data": {
            "text/plain": [
              "Country                              0\n",
              "Year                                 0\n",
              "Status                               0\n",
              "Life expectancy                     10\n",
              "Adult Mortality                     10\n",
              "infant deaths                        0\n",
              "Alcohol                            166\n",
              "percentage expenditure               0\n",
              "Measles                              0\n",
              "BMI                                 34\n",
              "under-five deaths                    0\n",
              "Polio                               19\n",
              "Total expenditure                  194\n",
              "Diphtheria                          19\n",
              "HIV/AIDS                             0\n",
              "thinness  1-19 years                34\n",
              "thinness 5-9 years                  34\n",
              "Income composition of resources    119\n",
              "Schooling                          115\n",
              "dtype: int64"
            ]
          },
          "metadata": {
            "tags": []
          },
          "execution_count": 434
        }
      ]
    },
    {
      "cell_type": "code",
      "metadata": {
        "id": "fVraxVFta5Og",
        "colab": {
          "base_uri": "https://localhost:8080/"
        },
        "outputId": "df5b51df-6cdc-4ffc-ff8e-f06f6822f295"
      },
      "source": [
        "# Get a descriptive statistics summary of the columns having the null values in the developing countries DataFrame\n",
        "null_columns1 = []\n",
        "for i in developing_df.columns:\n",
        "  if developing_df[i].isnull().sum() > 0:\n",
        "    null_columns1.append(i)\n",
        "for i in null_columns1:\n",
        "  print(developing_df[i].describe())"
      ],
      "execution_count": null,
      "outputs": [
        {
          "output_type": "stream",
          "text": [
            "count    2416.000000\n",
            "mean       67.111465\n",
            "std         9.006092\n",
            "min        36.300000\n",
            "25%        61.100000\n",
            "50%        69.000000\n",
            "75%        74.000000\n",
            "max        89.000000\n",
            "Name: Life expectancy, dtype: float64\n",
            "count    2416.000000\n",
            "mean      182.833195\n",
            "std       127.974557\n",
            "min         1.000000\n",
            "25%        92.000000\n",
            "50%       163.000000\n",
            "75%       253.000000\n",
            "max       723.000000\n",
            "Name: Adult Mortality, dtype: float64\n",
            "count    2260.000000\n",
            "mean        3.484119\n",
            "std         3.347537\n",
            "min         0.010000\n",
            "25%         0.517500\n",
            "50%         2.560000\n",
            "75%         5.750000\n",
            "max        17.870000\n",
            "Name: Alcohol, dtype: float64\n",
            "count    2392.000000\n",
            "mean       35.435326\n",
            "std        19.425091\n",
            "min         1.000000\n",
            "25%        18.300000\n",
            "50%        35.200000\n",
            "75%        53.200000\n",
            "max        87.300000\n",
            "Name: BMI, dtype: float64\n",
            "count    2407.000000\n",
            "mean       80.170752\n",
            "std        24.671531\n",
            "min         3.000000\n",
            "25%        74.000000\n",
            "50%        91.000000\n",
            "75%        97.000000\n",
            "max        99.000000\n",
            "Name: Polio, dtype: float64\n",
            "count    2232.000000\n",
            "mean        5.590694\n",
            "std         2.233756\n",
            "min         0.370000\n",
            "25%         4.140000\n",
            "50%         5.400000\n",
            "75%         6.830000\n",
            "max        17.240000\n",
            "Name: Total expenditure, dtype: float64\n",
            "count    2407.000000\n",
            "mean       79.951807\n",
            "std        24.834300\n",
            "min         2.000000\n",
            "25%        75.000000\n",
            "50%        91.000000\n",
            "75%        96.500000\n",
            "max        99.000000\n",
            "Name: Diphtheria, dtype: float64\n",
            "count    2392.000000\n",
            "mean        5.592935\n",
            "std         4.514453\n",
            "min         0.100000\n",
            "25%         2.100000\n",
            "50%         4.500000\n",
            "75%         7.725000\n",
            "max        27.700000\n",
            "Name: thinness  1-19 years, dtype: float64\n",
            "count    2392.000000\n",
            "mean        5.635242\n",
            "std         4.606130\n",
            "min         0.100000\n",
            "25%         2.100000\n",
            "50%         4.600000\n",
            "75%         7.800000\n",
            "max        28.600000\n",
            "Name: thinness 5-9 years, dtype: float64\n",
            "count    2307.000000\n",
            "mean        0.582310\n",
            "std         0.201597\n",
            "min         0.000000\n",
            "25%         0.466500\n",
            "50%         0.631000\n",
            "75%         0.727000\n",
            "max         0.919000\n",
            "Name: Income composition of resources, dtype: float64\n",
            "count    2311.000000\n",
            "mean       11.219256\n",
            "std         3.056601\n",
            "min         0.000000\n",
            "25%         9.600000\n",
            "50%        11.700000\n",
            "75%        13.200000\n",
            "max        18.300000\n",
            "Name: Schooling, dtype: float64\n"
          ],
          "name": "stdout"
        }
      ]
    },
    {
      "cell_type": "code",
      "metadata": {
        "id": "YKPbxaDDa8CK",
        "colab": {
          "base_uri": "https://localhost:8080/"
        },
        "outputId": "6bb4ace8-0048-4505-955c-87a9d30bc4cc"
      },
      "source": [
        "# Replace the missing values of the developing countries DataFrame with the median value of the respective columns.\n",
        "for i in null_columns1:\n",
        "  developing_df[i].fillna(developing_df[i].median(), inplace = True)"
      ],
      "execution_count": null,
      "outputs": [
        {
          "output_type": "stream",
          "text": [
            "/usr/local/lib/python3.6/dist-packages/pandas/core/series.py:4536: SettingWithCopyWarning: \n",
            "A value is trying to be set on a copy of a slice from a DataFrame\n",
            "\n",
            "See the caveats in the documentation: https://pandas.pydata.org/pandas-docs/stable/user_guide/indexing.html#returning-a-view-versus-a-copy\n",
            "  downcast=downcast,\n"
          ],
          "name": "stderr"
        }
      ]
    },
    {
      "cell_type": "code",
      "metadata": {
        "id": "dMdWs1sKbE5N",
        "colab": {
          "base_uri": "https://localhost:8080/"
        },
        "outputId": "9fca3065-d33d-45ef-8de4-47429b162c9b"
      },
      "source": [
        "# Again get a descriptive statistics summary of the DataFrame to verify that the replaced values did not disrupt the data\n",
        "for i in null_columns1:\n",
        "  print(developing_df[i].describe())"
      ],
      "execution_count": null,
      "outputs": [
        {
          "output_type": "stream",
          "text": [
            "count    2426.000000\n",
            "mean       67.119250\n",
            "std         8.988318\n",
            "min        36.300000\n",
            "25%        61.100000\n",
            "50%        69.000000\n",
            "75%        74.000000\n",
            "max        89.000000\n",
            "Name: Life expectancy, dtype: float64\n",
            "count    2426.000000\n",
            "mean      182.751443\n",
            "std       127.716744\n",
            "min         1.000000\n",
            "25%        92.250000\n",
            "50%       163.000000\n",
            "75%       252.750000\n",
            "max       723.000000\n",
            "Name: Adult Mortality, dtype: float64\n",
            "count    2426.000000\n",
            "mean        3.420886\n",
            "std         3.239347\n",
            "min         0.010000\n",
            "25%         0.580000\n",
            "50%         2.560000\n",
            "75%         5.390000\n",
            "max        17.870000\n",
            "Name: Alcohol, dtype: float64\n",
            "count    2426.000000\n",
            "mean       35.432028\n",
            "std        19.288454\n",
            "min         1.000000\n",
            "25%        18.400000\n",
            "50%        35.200000\n",
            "75%        53.075000\n",
            "max        87.300000\n",
            "Name: BMI, dtype: float64\n",
            "count    2426.000000\n",
            "mean       80.255565\n",
            "std        24.593231\n",
            "min         3.000000\n",
            "25%        74.000000\n",
            "50%        91.000000\n",
            "75%        97.000000\n",
            "max        99.000000\n",
            "Name: Polio, dtype: float64\n",
            "count    2426.000000\n",
            "mean        5.575445\n",
            "std         2.143168\n",
            "min         0.370000\n",
            "25%         4.252500\n",
            "50%         5.400000\n",
            "75%         6.700000\n",
            "max        17.240000\n",
            "Name: Total expenditure, dtype: float64\n",
            "count    2426.000000\n",
            "mean       80.038335\n",
            "std        24.755992\n",
            "min         2.000000\n",
            "25%        75.000000\n",
            "50%        91.000000\n",
            "75%        96.000000\n",
            "max        99.000000\n",
            "Name: Diphtheria, dtype: float64\n",
            "count    2426.000000\n",
            "mean        5.577617\n",
            "std         4.484535\n",
            "min         0.100000\n",
            "25%         2.100000\n",
            "50%         4.500000\n",
            "75%         7.700000\n",
            "max        27.700000\n",
            "Name: thinness  1-19 years, dtype: float64\n",
            "count    2426.000000\n",
            "mean        5.620734\n",
            "std         4.575345\n",
            "min         0.100000\n",
            "25%         2.100000\n",
            "50%         4.600000\n",
            "75%         7.700000\n",
            "max        28.600000\n",
            "Name: thinness 5-9 years, dtype: float64\n",
            "count    2426.000000\n",
            "mean        0.584698\n",
            "std         0.196869\n",
            "min         0.000000\n",
            "25%         0.475000\n",
            "50%         0.631000\n",
            "75%         0.722000\n",
            "max         0.919000\n",
            "Name: Income composition of resources, dtype: float64\n",
            "count    2426.000000\n",
            "mean       11.242045\n",
            "std         2.984994\n",
            "min         0.000000\n",
            "25%         9.700000\n",
            "50%        11.700000\n",
            "75%        13.100000\n",
            "max        18.300000\n",
            "Name: Schooling, dtype: float64\n"
          ],
          "name": "stdout"
        }
      ]
    },
    {
      "cell_type": "code",
      "metadata": {
        "id": "i4L10ILJLDUk",
        "colab": {
          "base_uri": "https://localhost:8080/"
        },
        "outputId": "3e878163-6cf1-4aca-8f93-6d6091e4dcf9"
      },
      "source": [
        "# Again check whether there are any missing values\n",
        "developing_df.isnull().sum()"
      ],
      "execution_count": null,
      "outputs": [
        {
          "output_type": "execute_result",
          "data": {
            "text/plain": [
              "Country                            0\n",
              "Year                               0\n",
              "Status                             0\n",
              "Life expectancy                    0\n",
              "Adult Mortality                    0\n",
              "infant deaths                      0\n",
              "Alcohol                            0\n",
              "percentage expenditure             0\n",
              "Measles                            0\n",
              "BMI                                0\n",
              "under-five deaths                  0\n",
              "Polio                              0\n",
              "Total expenditure                  0\n",
              "Diphtheria                         0\n",
              "HIV/AIDS                           0\n",
              "thinness  1-19 years               0\n",
              "thinness 5-9 years                 0\n",
              "Income composition of resources    0\n",
              "Schooling                          0\n",
              "dtype: int64"
            ]
          },
          "metadata": {
            "tags": []
          },
          "execution_count": 438
        }
      ]
    },
    {
      "cell_type": "markdown",
      "metadata": {
        "id": "-gNsMM1pn4Dl"
      },
      "source": [
        "---"
      ]
    },
    {
      "cell_type": "markdown",
      "metadata": {
        "id": "iTuc0PZabaqp"
      },
      "source": [
        "#### 4. Life Expectancy  w.r.t Year\n",
        "\n",
        "Find out whether the average age of death had increased globally in a period of 15 years i.e. from the year 2000 to 2015. Create a bar plot to depict this relationship."
      ]
    },
    {
      "cell_type": "code",
      "metadata": {
        "id": "uFPD0_1VbZeN",
        "colab": {
          "base_uri": "https://localhost:8080/",
          "height": 334
        },
        "outputId": "64ccf0d0-6576-4039-a88e-3c0e0af35ccd"
      },
      "source": [
        "# Life expectancy w.r.t Year using bar plot for developed countries\n",
        "plt.figure(figsize = (20, 5))\n",
        "sns.barplot(x = 'Year', y = 'Life expectancy', data = developed_df)\n",
        "plt.show()"
      ],
      "execution_count": null,
      "outputs": [
        {
          "output_type": "display_data",
          "data": {
            "image/png": "[encoded data removed]",
            "text/plain": [
              "<Figure size 1440x360 with 1 Axes>"
            ]
          },
          "metadata": {
            "tags": [],
            "needs_background": "light"
          }
        }
      ]
    },
    {
      "cell_type": "code",
      "metadata": {
        "id": "ArhsmGBycXTG",
        "colab": {
          "base_uri": "https://localhost:8080/",
          "height": 334
        },
        "outputId": "08377413-0816-49f8-fa16-7720bfe0ff49"
      },
      "source": [
        "# Life expectancy w.r.t Year using bar plot for developing countries\n",
        "plt.figure(figsize = (20, 5))\n",
        "sns.barplot(x = 'Year', y = 'Life expectancy', data = developing_df)\n",
        "plt.show()"
      ],
      "execution_count": null,
      "outputs": [
        {
          "output_type": "display_data",
          "data": {
            "image/png": "[encoded data removed]",
            "text/plain": [
              "<Figure size 1440x360 with 1 Axes>"
            ]
          },
          "metadata": {
            "tags": [],
            "needs_background": "light"
          }
        }
      ]
    },
    {
      "cell_type": "markdown",
      "metadata": {
        "id": "RBZECrMaeXg_"
      },
      "source": [
        "**Q:** Do you find any increase in the average life expectancy over 15 years?\n",
        "\n",
        "**A:** Yes, there is an increase in the average life expectancy over 15 years.\n",
        "\n",
        "**Q:** In which year, the average life expectancy was maximum?\n",
        "\n",
        "**A:** For developed countries, 2014 has the maximum average life expectancy.\n",
        "For developing countries, 2015 has the maximum average life expectancy."
      ]
    },
    {
      "cell_type": "markdown",
      "metadata": {
        "id": "7u3d8X9he8c5"
      },
      "source": [
        "---"
      ]
    },
    {
      "cell_type": "markdown",
      "metadata": {
        "id": "dCHlzsyge9th"
      },
      "source": [
        "#### 5. Developing versus Developed Countries\n",
        "\n",
        "Find out whether the people living in developing countries die early as compared to those living in developed countries."
      ]
    },
    {
      "cell_type": "code",
      "metadata": {
        "id": "IlmGGTNejvkn",
        "colab": {
          "base_uri": "https://localhost:8080/",
          "height": 334
        },
        "outputId": "a23596e7-ae86-4392-9b9d-18f0bf65177f"
      },
      "source": [
        "# Create a barplot for yearly life expectancy of developing and developed countries in a single bar chart.\n",
        "plt.figure(figsize = (20, 5))\n",
        "sns.barplot(x = 'Year', y = 'Life expectancy', data = developed_df, color = 'red')\n",
        "sns.barplot(x = 'Year', y = 'Life expectancy', data = developing_df, color = 'blue')\n",
        "plt.show()"
      ],
      "execution_count": null,
      "outputs": [
        {
          "output_type": "display_data",
          "data": {
            "image/png": "[encoded data removed]",
            "text/plain": [
              "<Figure size 1440x360 with 1 Axes>"
            ]
          },
          "metadata": {
            "tags": [],
            "needs_background": "light"
          }
        }
      ]
    },
    {
      "cell_type": "code",
      "metadata": {
        "id": "p6xdc97yKaAS",
        "colab": {
          "base_uri": "https://localhost:8080/"
        },
        "outputId": "c35c02ec-b955-4d75-f520-09cf135ae95f"
      },
      "source": [
        "# Find the overall average life expectancy of developed and developing countries\n",
        "developed_avg_life = developed_df['Life expectancy'].mean()\n",
        "developing_avg_life = developing_df['Life expectancy'].mean()\n",
        "print(f'The average life expectancy in developed countries is {round(developed_avg_life, 3)}. \\nThe average life expectancy in developing countries is {round(developing_avg_life, 2)}.')"
      ],
      "execution_count": null,
      "outputs": [
        {
          "output_type": "stream",
          "text": [
            "The average life expectancy in developed countries is 79.198. \n",
            "The average life expectancy in developing countries is 67.12.\n"
          ],
          "name": "stdout"
        }
      ]
    },
    {
      "cell_type": "markdown",
      "metadata": {
        "id": "g5OlyS0bkTu2"
      },
      "source": [
        "**Q:** Is there a huge difference in the average life expectancies of developing and developed countries?\n",
        "\n",
        "**A:** Yes, there is a difference in the average life expectancies of developing and developed countries by 12% which is really a huge difference."
      ]
    },
    {
      "cell_type": "markdown",
      "metadata": {
        "id": "KKn8vnvyklrp"
      },
      "source": [
        "---"
      ]
    },
    {
      "cell_type": "markdown",
      "metadata": {
        "id": "PPItm0BrOJ0R"
      },
      "source": [
        "#### 6. Probability Distribution of Life Expectancy\n",
        "\n",
        "Let us find out how many developing countries had extremely low life expectancy in the year 2015. Perform the following tasks:\n",
        "- Create a line plot for the life expectancy of developing countries for the year 2015 with life expectancy on the X-axis and their corresponding probability densities on the Y-axis.\n",
        "\n",
        "- Also, find out how many developing countries had extremely low life expectancy i.e. below 60 in the year 2015. Use $Z$-score and `cdf()` function to find the probability of the random variable $X \\le 60$.\n",
        "\n",
        "- List down the names of the developing countries that had a life expectancy below 60 years in the year 2015.\n",
        "\n",
        "\n",
        "**Note:** Instead of applying the `cdf()` function, you can also use `integrate` module of the `scipy` package.\n"
      ]
    },
    {
      "cell_type": "code",
      "metadata": {
        "id": "TVcejg4r8t7L"
      },
      "source": [
        "# Create a Python function to calculate the individual probabilities of all the life expectancies\n",
        "def prob_density_func(array, mean, standard_deviation):\n",
        "  p = 1 / (standard_deviation * np.sqrt(2 * 3.14))\n",
        "  exponent = np.exp(-(array - mean) ** 2 / (2 * (standard_deviation ** 2)))\n",
        "  probability_density = p * exponent\n",
        "  return probability_density"
      ],
      "execution_count": null,
      "outputs": []
    },
    {
      "cell_type": "code",
      "metadata": {
        "id": "to9gzAplaeVV",
        "colab": {
          "base_uri": "https://localhost:8080/",
          "height": 575
        },
        "outputId": "6d5c49ac-98e5-457c-c419-9e0e80f76733"
      },
      "source": [
        "# Create a DataFrame of developing countries for year 2015\n",
        "developing_2015 = developing_df[developing_df['Year'] == 2015]\n",
        "developing_2015"
      ],
      "execution_count": null,
      "outputs": [
        {
          "output_type": "execute_result",
          "data": {
            "text/html": [
              "<div>\n",
              "<style scoped>\n",
              "    .dataframe tbody tr th:only-of-type {\n",
              "        vertical-align: middle;\n",
              "    }\n",
              "\n",
              "    .dataframe tbody tr th {\n",
              "        vertical-align: top;\n",
              "    }\n",
              "\n",
              "    .dataframe thead th {\n",
              "        text-align: right;\n",
              "    }\n",
              "</style>\n",
              "<table border=\"1\" class=\"dataframe\">\n",
              "  <thead>\n",
              "    <tr style=\"text-align: right;\">\n",
              "      <th></th>\n",
              "      <th>Country</th>\n",
              "      <th>Year</th>\n",
              "      <th>Status</th>\n",
              "      <th>Life expectancy</th>\n",
              "      <th>Adult Mortality</th>\n",
              "      <th>infant deaths</th>\n",
              "      <th>Alcohol</th>\n",
              "      <th>percentage expenditure</th>\n",
              "      <th>Measles</th>\n",
              "      <th>BMI</th>\n",
              "      <th>under-five deaths</th>\n",
              "      <th>Polio</th>\n",
              "      <th>Total expenditure</th>\n",
              "      <th>Diphtheria</th>\n",
              "      <th>HIV/AIDS</th>\n",
              "      <th>thinness  1-19 years</th>\n",
              "      <th>thinness 5-9 years</th>\n",
              "      <th>Income composition of resources</th>\n",
              "      <th>Schooling</th>\n",
              "    </tr>\n",
              "  </thead>\n",
              "  <tbody>\n",
              "    <tr>\n",
              "      <th>0</th>\n",
              "      <td>Afghanistan</td>\n",
              "      <td>2015</td>\n",
              "      <td>Developing</td>\n",
              "      <td>65.0</td>\n",
              "      <td>263.0</td>\n",
              "      <td>62</td>\n",
              "      <td>0.01</td>\n",
              "      <td>71.279624</td>\n",
              "      <td>1154</td>\n",
              "      <td>19.1</td>\n",
              "      <td>83</td>\n",
              "      <td>6.0</td>\n",
              "      <td>8.16</td>\n",
              "      <td>65.0</td>\n",
              "      <td>0.1</td>\n",
              "      <td>17.2</td>\n",
              "      <td>17.3</td>\n",
              "      <td>0.479</td>\n",
              "      <td>10.1</td>\n",
              "    </tr>\n",
              "    <tr>\n",
              "      <th>16</th>\n",
              "      <td>Albania</td>\n",
              "      <td>2015</td>\n",
              "      <td>Developing</td>\n",
              "      <td>77.8</td>\n",
              "      <td>74.0</td>\n",
              "      <td>0</td>\n",
              "      <td>4.60</td>\n",
              "      <td>364.975229</td>\n",
              "      <td>0</td>\n",
              "      <td>58.0</td>\n",
              "      <td>0</td>\n",
              "      <td>99.0</td>\n",
              "      <td>6.00</td>\n",
              "      <td>99.0</td>\n",
              "      <td>0.1</td>\n",
              "      <td>1.2</td>\n",
              "      <td>1.3</td>\n",
              "      <td>0.762</td>\n",
              "      <td>14.2</td>\n",
              "    </tr>\n",
              "    <tr>\n",
              "      <th>32</th>\n",
              "      <td>Algeria</td>\n",
              "      <td>2015</td>\n",
              "      <td>Developing</td>\n",
              "      <td>75.6</td>\n",
              "      <td>19.0</td>\n",
              "      <td>21</td>\n",
              "      <td>2.56</td>\n",
              "      <td>0.000000</td>\n",
              "      <td>63</td>\n",
              "      <td>59.5</td>\n",
              "      <td>24</td>\n",
              "      <td>95.0</td>\n",
              "      <td>5.40</td>\n",
              "      <td>95.0</td>\n",
              "      <td>0.1</td>\n",
              "      <td>6.0</td>\n",
              "      <td>5.8</td>\n",
              "      <td>0.743</td>\n",
              "      <td>14.4</td>\n",
              "    </tr>\n",
              "    <tr>\n",
              "      <th>48</th>\n",
              "      <td>Angola</td>\n",
              "      <td>2015</td>\n",
              "      <td>Developing</td>\n",
              "      <td>52.4</td>\n",
              "      <td>335.0</td>\n",
              "      <td>66</td>\n",
              "      <td>2.56</td>\n",
              "      <td>0.000000</td>\n",
              "      <td>118</td>\n",
              "      <td>23.3</td>\n",
              "      <td>98</td>\n",
              "      <td>7.0</td>\n",
              "      <td>5.40</td>\n",
              "      <td>64.0</td>\n",
              "      <td>1.9</td>\n",
              "      <td>8.3</td>\n",
              "      <td>8.2</td>\n",
              "      <td>0.531</td>\n",
              "      <td>11.4</td>\n",
              "    </tr>\n",
              "    <tr>\n",
              "      <th>64</th>\n",
              "      <td>Antigua and Barbuda</td>\n",
              "      <td>2015</td>\n",
              "      <td>Developing</td>\n",
              "      <td>76.4</td>\n",
              "      <td>13.0</td>\n",
              "      <td>0</td>\n",
              "      <td>2.56</td>\n",
              "      <td>0.000000</td>\n",
              "      <td>0</td>\n",
              "      <td>47.7</td>\n",
              "      <td>0</td>\n",
              "      <td>86.0</td>\n",
              "      <td>5.40</td>\n",
              "      <td>99.0</td>\n",
              "      <td>0.2</td>\n",
              "      <td>3.3</td>\n",
              "      <td>3.3</td>\n",
              "      <td>0.784</td>\n",
              "      <td>13.9</td>\n",
              "    </tr>\n",
              "    <tr>\n",
              "      <th>...</th>\n",
              "      <td>...</td>\n",
              "      <td>...</td>\n",
              "      <td>...</td>\n",
              "      <td>...</td>\n",
              "      <td>...</td>\n",
              "      <td>...</td>\n",
              "      <td>...</td>\n",
              "      <td>...</td>\n",
              "      <td>...</td>\n",
              "      <td>...</td>\n",
              "      <td>...</td>\n",
              "      <td>...</td>\n",
              "      <td>...</td>\n",
              "      <td>...</td>\n",
              "      <td>...</td>\n",
              "      <td>...</td>\n",
              "      <td>...</td>\n",
              "      <td>...</td>\n",
              "      <td>...</td>\n",
              "    </tr>\n",
              "    <tr>\n",
              "      <th>2858</th>\n",
              "      <td>Venezuela (Bolivarian Republic of)</td>\n",
              "      <td>2015</td>\n",
              "      <td>Developing</td>\n",
              "      <td>74.1</td>\n",
              "      <td>157.0</td>\n",
              "      <td>9</td>\n",
              "      <td>2.56</td>\n",
              "      <td>0.000000</td>\n",
              "      <td>0</td>\n",
              "      <td>62.1</td>\n",
              "      <td>10</td>\n",
              "      <td>87.0</td>\n",
              "      <td>5.40</td>\n",
              "      <td>87.0</td>\n",
              "      <td>0.1</td>\n",
              "      <td>1.6</td>\n",
              "      <td>1.5</td>\n",
              "      <td>0.769</td>\n",
              "      <td>14.3</td>\n",
              "    </tr>\n",
              "    <tr>\n",
              "      <th>2874</th>\n",
              "      <td>Viet Nam</td>\n",
              "      <td>2015</td>\n",
              "      <td>Developing</td>\n",
              "      <td>76.0</td>\n",
              "      <td>127.0</td>\n",
              "      <td>28</td>\n",
              "      <td>2.56</td>\n",
              "      <td>0.000000</td>\n",
              "      <td>256</td>\n",
              "      <td>17.5</td>\n",
              "      <td>35</td>\n",
              "      <td>97.0</td>\n",
              "      <td>5.40</td>\n",
              "      <td>97.0</td>\n",
              "      <td>0.1</td>\n",
              "      <td>14.2</td>\n",
              "      <td>14.5</td>\n",
              "      <td>0.678</td>\n",
              "      <td>12.6</td>\n",
              "    </tr>\n",
              "    <tr>\n",
              "      <th>2890</th>\n",
              "      <td>Yemen</td>\n",
              "      <td>2015</td>\n",
              "      <td>Developing</td>\n",
              "      <td>65.7</td>\n",
              "      <td>224.0</td>\n",
              "      <td>37</td>\n",
              "      <td>2.56</td>\n",
              "      <td>0.000000</td>\n",
              "      <td>468</td>\n",
              "      <td>41.3</td>\n",
              "      <td>47</td>\n",
              "      <td>63.0</td>\n",
              "      <td>5.40</td>\n",
              "      <td>69.0</td>\n",
              "      <td>0.1</td>\n",
              "      <td>13.6</td>\n",
              "      <td>13.4</td>\n",
              "      <td>0.499</td>\n",
              "      <td>9.0</td>\n",
              "    </tr>\n",
              "    <tr>\n",
              "      <th>2906</th>\n",
              "      <td>Zambia</td>\n",
              "      <td>2015</td>\n",
              "      <td>Developing</td>\n",
              "      <td>61.8</td>\n",
              "      <td>33.0</td>\n",
              "      <td>27</td>\n",
              "      <td>2.56</td>\n",
              "      <td>0.000000</td>\n",
              "      <td>9</td>\n",
              "      <td>23.4</td>\n",
              "      <td>40</td>\n",
              "      <td>9.0</td>\n",
              "      <td>5.40</td>\n",
              "      <td>9.0</td>\n",
              "      <td>4.1</td>\n",
              "      <td>6.3</td>\n",
              "      <td>6.1</td>\n",
              "      <td>0.576</td>\n",
              "      <td>12.5</td>\n",
              "    </tr>\n",
              "    <tr>\n",
              "      <th>2922</th>\n",
              "      <td>Zimbabwe</td>\n",
              "      <td>2015</td>\n",
              "      <td>Developing</td>\n",
              "      <td>67.0</td>\n",
              "      <td>336.0</td>\n",
              "      <td>22</td>\n",
              "      <td>2.56</td>\n",
              "      <td>0.000000</td>\n",
              "      <td>0</td>\n",
              "      <td>31.8</td>\n",
              "      <td>32</td>\n",
              "      <td>88.0</td>\n",
              "      <td>5.40</td>\n",
              "      <td>87.0</td>\n",
              "      <td>6.2</td>\n",
              "      <td>5.6</td>\n",
              "      <td>5.5</td>\n",
              "      <td>0.507</td>\n",
              "      <td>10.3</td>\n",
              "    </tr>\n",
              "  </tbody>\n",
              "</table>\n",
              "<p>151 rows × 19 columns</p>\n",
              "</div>"
            ],
            "text/plain": [
              "                                 Country  ...  Schooling\n",
              "0                            Afghanistan  ...       10.1\n",
              "16                               Albania  ...       14.2\n",
              "32                               Algeria  ...       14.4\n",
              "48                                Angola  ...       11.4\n",
              "64                   Antigua and Barbuda  ...       13.9\n",
              "...                                  ...  ...        ...\n",
              "2858  Venezuela (Bolivarian Republic of)  ...       14.3\n",
              "2874                            Viet Nam  ...       12.6\n",
              "2890                               Yemen  ...        9.0\n",
              "2906                              Zambia  ...       12.5\n",
              "2922                            Zimbabwe  ...       10.3\n",
              "\n",
              "[151 rows x 19 columns]"
            ]
          },
          "metadata": {
            "tags": []
          },
          "execution_count": 444
        }
      ]
    },
    {
      "cell_type": "code",
      "metadata": {
        "id": "_BL70k_664RC",
        "colab": {
          "base_uri": "https://localhost:8080/",
          "height": 350
        },
        "outputId": "a22d51fe-f156-425d-f63a-45791c007a80"
      },
      "source": [
        "# Plot the probability distribution of life expectancy of developing countries for the year 2015. Also, fill the area for X < 60.\n",
        "life_expect_less_60 = developing_2015['Life expectancy']\n",
        "probs = prob_density_func(np.arange(life_expect_less_60.min(), 60), life_expect_less_60.mean(), life_expect_less_60.std())\n",
        "rho = prob_density_func(life_expect_less_60.sort_values(), life_expect_less_60.mean(), life_expect_less_60.std())\n",
        "plt.figure(figsize = (20, 5))\n",
        "plt.title('The probability distribution of life expectancy of developing countries for the year 2015.')\n",
        "plt.xlabel('Life expected')\n",
        "plt.ylabel('Probability')\n",
        "plt.plot(life_expect_less_60.sort_values(), rho, color = 'yellow', linewidth = 2.5)\n",
        "plt.fill_between(x = np.arange(life_expect_less_60.min(), 60), y1 = probs)\n",
        "plt.axvline(x = 60)\n",
        "plt.show()"
      ],
      "execution_count": null,
      "outputs": [
        {
          "output_type": "display_data",
          "data": {
            "image/png": "[encoded data removed]",
            "text/plain": [
              "<Figure size 1440x360 with 1 Axes>"
            ]
          },
          "metadata": {
            "tags": [],
            "needs_background": "light"
          }
        }
      ]
    },
    {
      "cell_type": "code",
      "metadata": {
        "id": "VHmYjkK_BnzZ",
        "colab": {
          "base_uri": "https://localhost:8080/"
        },
        "outputId": "e3d763b9-f409-48e6-c2dd-14ee05619e95"
      },
      "source": [
        "# Calculate Z-score of 60 and find P(X < 60) by applying 'cdf()' function\n",
        "from scipy.stats import norm\n",
        "z_score = (60 - life_expect_less_60.mean()) / life_expect_less_60.std()\n",
        "print(f'The Z-score is {round(z_score, 3)}.')\n",
        "probability = norm.cdf(z_score)\n",
        "print(f'The probability is {round(probability, 3)}.')"
      ],
      "execution_count": null,
      "outputs": [
        {
          "output_type": "stream",
          "text": [
            "The Z-score is -1.292.\n",
            "The probability is 0.098.\n"
          ],
          "name": "stdout"
        }
      ]
    },
    {
      "cell_type": "markdown",
      "metadata": {
        "id": "5XwkVEa0NPDP"
      },
      "source": [
        "\n",
        "\n",
        "**Q:** How much percentage of developing countries had extremely low life expectancy in the year 2015?\n",
        "\n",
        "**A:** 9.8 percentage of developing countries had extremely low life expectancy in the year 2015.\n",
        "\n"
      ]
    },
    {
      "cell_type": "code",
      "metadata": {
        "id": "u85EFiH2P-2D",
        "colab": {
          "base_uri": "https://localhost:8080/"
        },
        "outputId": "a248f53e-c978-4fda-8276-52e193c30e79"
      },
      "source": [
        "# List down the name of the countries having life expectancy below 60 in the year 2015\n",
        "expectancy = list(zip(list(developing_2015.loc[developing_2015['Life expectancy'] < 60, 'Country']), list(developing_2015.loc[developing_2015['Life expectancy'] < 60, 'Life expectancy'])))\n",
        "expectancy"
      ],
      "execution_count": null,
      "outputs": [
        {
          "output_type": "execute_result",
          "data": {
            "text/plain": [
              "[('Angola', 52.4),\n",
              " ('Burkina Faso', 59.9),\n",
              " ('Burundi', 59.6),\n",
              " (\"Côte d'Ivoire\", 53.3),\n",
              " ('Cameroon', 57.3),\n",
              " ('Central African Republic', 52.5),\n",
              " ('Chad', 53.1),\n",
              " ('Democratic Republic of the Congo', 59.8),\n",
              " ('Equatorial Guinea', 58.2),\n",
              " ('Guinea', 59.0),\n",
              " ('Guinea-Bissau', 58.9),\n",
              " ('Lesotho', 53.7),\n",
              " ('Malawi', 58.3),\n",
              " ('Mali', 58.2),\n",
              " ('Mozambique', 57.6),\n",
              " ('Nigeria', 54.5),\n",
              " ('Sierra Leone', 51.0),\n",
              " ('Somalia', 55.0),\n",
              " ('South Sudan', 57.3),\n",
              " ('Swaziland', 58.9),\n",
              " ('Togo', 59.9)]"
            ]
          },
          "metadata": {
            "tags": []
          },
          "execution_count": 447
        }
      ]
    },
    {
      "cell_type": "markdown",
      "metadata": {
        "id": "AgX4YNVybwlh"
      },
      "source": [
        "**Q:** Which country had the lowest life expectancy in the year 2015?\n",
        "\n",
        "**A:**Sierra Leone is the country which had the lowest life expectancy in the year 2015."
      ]
    },
    {
      "cell_type": "markdown",
      "metadata": {
        "id": "sfZ03TLJnATc"
      },
      "source": [
        "---"
      ]
    },
    {
      "cell_type": "markdown",
      "metadata": {
        "id": "ewzFUrdtnB5F"
      },
      "source": [
        "#### 7. Finding Correlation\n",
        "\n",
        "Find the columns that are highly correlated with the `Life expectancy` column. For this, calculate the correlation coefficient values between all the columns and then use a heatmap to visualise these correlations."
      ]
    },
    {
      "cell_type": "code",
      "metadata": {
        "id": "KAYKIvT4Sk3F",
        "colab": {
          "base_uri": "https://localhost:8080/",
          "height": 478
        },
        "outputId": "8e2f3b37-37c1-4433-c9b5-a61048a5d974"
      },
      "source": [
        "# calculate correlation coefficient for all columns of the original DataFrame\n",
        "correlation_df = life_expect_df.corr()\n",
        "# Use heatmap to observe correlations.\n",
        "plt.figure(figsize = (20, 5))\n",
        "sns.heatmap(correlation_df, annot = True)\n",
        "plt.show()"
      ],
      "execution_count": null,
      "outputs": [
        {
          "output_type": "display_data",
          "data": {
            "image/png": "[encoded data removed]",
            "text/plain": [
              "<Figure size 1440x360 with 2 Axes>"
            ]
          },
          "metadata": {
            "tags": [],
            "needs_background": "light"
          }
        }
      ]
    },
    {
      "cell_type": "markdown",
      "metadata": {
        "id": "0d6SEpws3u73"
      },
      "source": [
        "**Q:** Which attribute(s) have an extremely strong **positive** correlation with `Life expectancy`?\n",
        "\n",
        "**A:** `Schooling` and `Income composition of resources` have an extremely strong **positive** correlation with `Life expectancy`.\n",
        "\n",
        "\n",
        "**Q:** Which attribute(s) have an extremely strong **negative** correlation with `Life expectancy`?\n",
        "\n",
        "**A:** `Adult Mortality` and `HIV/AIDS` have an extremely strong **negative** correlation with `Life expectancy`.\n",
        "\n",
        "\n",
        "\n",
        "**Q:** By observing the correlation heatmap, find out other attributes or features that are highly correlated with each other (excluding Life expectancy).\n",
        "\n",
        "**A:**"
      ]
    },
    {
      "cell_type": "markdown",
      "metadata": {
        "id": "bXpq2A9PYzwL"
      },
      "source": [
        "---"
      ]
    },
    {
      "cell_type": "markdown",
      "metadata": {
        "id": "tLw7_fXplt2e"
      },
      "source": [
        "---"
      ]
    }
  ]
}